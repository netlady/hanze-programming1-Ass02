{
 "cells": [
  {
   "cell_type": "markdown",
   "metadata": {},
   "source": [
    "# Week 02 Assignment glucose level data\n",
    "\n",
    "\n",
    "Missing data occurs commonly in many data applications. Especially wearable sensor devices encounter measurement errors resulting in missing data. Although pandas can handle missing data, for instance, to exclude missing data in the descriptive analysis, we might decide to reshape our data to improve quality. We might consider excluding certain rows, columns, or decide to impute our data if we take an argumentative approach. This week we will work with sensor data of a semester 01 project. The data is timeseries related but a lot of sensor errors occurred. First, we inspect the quality data. Then we will work with imputation, interpolation, and smoothing techniques to overcome this issue of the error readings. Finaly we plot the data. Visualization is a method to translate data into information. As a data scientist you should be able to choose an appropiate visualizations. \n",
    "\n",
    "\n",
    "Keywords: data loading, data inspection, data exploration, data cleaning, impute data, missing data, timeseries, pandas, visualization, interactive plots, overflow/underflow error\n",
    "\n",
    "More to read\n",
    "- https://fennaf.gitbook.io/bfvm22prog1/\n",
    "- https://towardsdatascience.com/how-to-analyze-blood-glucose-data-with-python-data-science-packages-4f160f9564be\n",
    "\n",
    "\n",
    "More about pandas and bokeh programming\n",
    "- https://pandas.pydata.org/pandas-docs/stable/reference/api/pandas.DataFrame.interpolate.html\n",
    "- https://rubberduckdebugging.com/\n",
    "- https://docs.bokeh.org/en/latest/docs/gallery.html\n",
    "\n",
    "\n",
    "Learning objectives\n",
    "\n",
    "- Further practice numpy / pandas\n",
    "- Read, inspect, clean, and impute JSON data. Handle missing data\n",
    "- Apply different interpolation/smoothing techniques\n",
    "- Recognize overflow/underflow error\n",
    "- Perform visual and statistical analysis for time series data\n",
    "- Maintain development environment \n",
    "- Apply coding standards and FAIR principles\n",
    "\n",
    "\n",
    "Note: you can bring your own sensor data, but for the practical you need some missing data points. \n",
    "\n",
    "By the end of this week the student can:\n",
    "\n",
    "- load a json dataset \n",
    "- typecast the Pandas DataFrame to appropiate data types\n",
    "- inspect the dataset for quality and metadata information\n",
    "- add a column with interpolated data in Pandas DataFrame\n",
    "- perform visual analysis\n",
    "\n",
    "please add your own topics you want to learn here: https://padlet.com/ffeenstra1/69vbvy0l8t32rq55\n",
    "\n",
    "\n",
    "The assignment consists of 6 parts:\n",
    "\n",
    "- [part 1: load the data](#0)\n",
    "     - [Exercise 1.1](#ex-11)\n",
    "- [part 2: prepare for inspection](#1)\n",
    "     - [Exercise 2.1](#ex-21)\n",
    "- [part 3: inspect the data](#2)\n",
    "     - [Exercise 3.1](#ex-31)\n",
    "- [part 4: interpolate the data](#3)\n",
    "     - [Exercise 4.1](#ex-41)\n",
    "- [part 5: visualize the data](#4)\n",
    "     - [Exercise 5.1](#ex-51)\n",
    "- [part 6: Challenge](#5)\n",
    "     - [Exercise 6.1](#ex-61)\n",
    "\n",
    "Part 1 and 5 are mandatory, part 6 is optional (bonus)\n",
    "Mind you that you cannot copy code without referencing the code. If you copy code you need to be able to explain your code verbally and you will not get the full score. \n"
   ]
  },
  {
   "cell_type": "markdown",
   "metadata": {},
   "source": [
    "<a name='0'></a>\n",
    "## Part 1: Load the data\n",
    "\n",
    "Instructions: Load the json datafile `glucose.json` into a pandas dataframe. Check your dataframe with a `.head()` to compare with the expected outcome. \n",
    "\n",
    "Preferably we read the data not with a hard coded data path but using a config file. See https://fennaf.gitbook.io/bfvm22prog1/data-processing/configuration-files/yaml\n",
    "\n",
    "<details>    \n",
    "<summary>\n",
    "    <font size=\"3\" color=\"darkgreen\"><b>Hints</b></font>\n",
    "</summary>\n",
    "<ul><li>json.load() method reads a file, pd.read_json converts it to a Pandas DataFrame</li>\n",
    "    <li>when loading into a Pandas DataFrame use records orientation </li>\n",
    "</ul>\n",
    "</details>\n",
    "\n",
    "<a name='ex-11'></a>\n",
    "### Code your solution"
   ]
  },
  {
   "cell_type": "code",
   "execution_count": 86,
   "metadata": {},
   "outputs": [
    {
     "data": {
      "text/html": [
       "<div>\n",
       "<style scoped>\n",
       "    .dataframe tbody tr th:only-of-type {\n",
       "        vertical-align: middle;\n",
       "    }\n",
       "\n",
       "    .dataframe tbody tr th {\n",
       "        vertical-align: top;\n",
       "    }\n",
       "\n",
       "    .dataframe thead th {\n",
       "        text-align: right;\n",
       "    }\n",
       "</style>\n",
       "<table border=\"1\" class=\"dataframe\">\n",
       "  <thead>\n",
       "    <tr style=\"text-align: right;\">\n",
       "      <th></th>\n",
       "      <th>ID</th>\n",
       "      <th>time</th>\n",
       "      <th>recordtype</th>\n",
       "      <th>glucose</th>\n",
       "    </tr>\n",
       "  </thead>\n",
       "  <tbody>\n",
       "    <tr>\n",
       "      <th>0</th>\n",
       "      <td>2.845000e+03</td>\n",
       "      <td>2019-04-25 00:08</td>\n",
       "      <td>1</td>\n",
       "      <td>109</td>\n",
       "    </tr>\n",
       "    <tr>\n",
       "      <th>1</th>\n",
       "      <td>2.850000e+03</td>\n",
       "      <td>2019-04-25 00:50</td>\n",
       "      <td>1</td>\n",
       "      <td></td>\n",
       "    </tr>\n",
       "    <tr>\n",
       "      <th>2</th>\n",
       "      <td>2.877000e+03</td>\n",
       "      <td>2019-04-25 07:02</td>\n",
       "      <td>1</td>\n",
       "      <td>123</td>\n",
       "    </tr>\n",
       "    <tr>\n",
       "      <th>3</th>\n",
       "      <td>2.881000e+03</td>\n",
       "      <td>2019-04-25 07:34</td>\n",
       "      <td>1</td>\n",
       "      <td>158</td>\n",
       "    </tr>\n",
       "    <tr>\n",
       "      <th>4</th>\n",
       "      <td>2.886000e+03</td>\n",
       "      <td>2019-04-25 08:19</td>\n",
       "      <td>1</td>\n",
       "      <td></td>\n",
       "    </tr>\n",
       "    <tr>\n",
       "      <th>...</th>\n",
       "      <td>...</td>\n",
       "      <td>...</td>\n",
       "      <td>...</td>\n",
       "      <td>...</td>\n",
       "    </tr>\n",
       "    <tr>\n",
       "      <th>131</th>\n",
       "      <td>1.614305e+19</td>\n",
       "      <td>2019-04-25 22:47</td>\n",
       "      <td>0</td>\n",
       "      <td>None</td>\n",
       "    </tr>\n",
       "    <tr>\n",
       "      <th>132</th>\n",
       "      <td>1.614305e+19</td>\n",
       "      <td>2019-04-25 23:02</td>\n",
       "      <td>0</td>\n",
       "      <td>None</td>\n",
       "    </tr>\n",
       "    <tr>\n",
       "      <th>133</th>\n",
       "      <td>1.614305e+19</td>\n",
       "      <td>2019-04-25 23:18</td>\n",
       "      <td>0</td>\n",
       "      <td>None</td>\n",
       "    </tr>\n",
       "    <tr>\n",
       "      <th>134</th>\n",
       "      <td>1.614305e+19</td>\n",
       "      <td>2019-04-25 23:33</td>\n",
       "      <td>0</td>\n",
       "      <td>None</td>\n",
       "    </tr>\n",
       "    <tr>\n",
       "      <th>135</th>\n",
       "      <td>1.614305e+19</td>\n",
       "      <td>2019-04-25 23:48</td>\n",
       "      <td>0</td>\n",
       "      <td>None</td>\n",
       "    </tr>\n",
       "  </tbody>\n",
       "</table>\n",
       "<p>136 rows × 4 columns</p>\n",
       "</div>"
      ],
      "text/plain": [
       "               ID              time  recordtype glucose\n",
       "0    2.845000e+03  2019-04-25 00:08           1     109\n",
       "1    2.850000e+03  2019-04-25 00:50           1        \n",
       "2    2.877000e+03  2019-04-25 07:02           1     123\n",
       "3    2.881000e+03  2019-04-25 07:34           1     158\n",
       "4    2.886000e+03  2019-04-25 08:19           1        \n",
       "..            ...               ...         ...     ...\n",
       "131  1.614305e+19  2019-04-25 22:47           0    None\n",
       "132  1.614305e+19  2019-04-25 23:02           0    None\n",
       "133  1.614305e+19  2019-04-25 23:18           0    None\n",
       "134  1.614305e+19  2019-04-25 23:33           0    None\n",
       "135  1.614305e+19  2019-04-25 23:48           0    None\n",
       "\n",
       "[136 rows x 4 columns]"
      ]
     },
     "execution_count": 86,
     "metadata": {},
     "output_type": "execute_result"
    }
   ],
   "source": [
    "import pandas as pd\n",
    "import yaml as ym\n",
    "import json as js\n",
    "import numpy as np\n",
    "import data_patterns as dp #using command 'pip install data_patterns' in terminal to install data_patterns\n",
    "\n",
    "#--------- find glucose file path from config file\n",
    "with open('config.yaml', 'r') as configFile: # open config file\n",
    "    configDic = ym.safe_load(configFile) #put file in Dic type\n",
    "glucosePath = configDic['glucosePath'] #find glucose path\n",
    "#--------- read glucose file and put it on df as a dataframe\n",
    "glucoseFile = open(glucosePath) #open the glucose file\n",
    "df = pd.read_json(js.load(glucoseFile)) #read and put in dataframe\n",
    "df\n"
   ]
  },
  {
   "cell_type": "markdown",
   "metadata": {},
   "source": [
    "#### Expected outcome: "
   ]
  },
  {
   "cell_type": "raw",
   "metadata": {},
   "source": [
    "       ID              time  recordtype glucose\n",
    "0  2845.0  2019-04-25 00:08           1     109\n",
    "1  2850.0  2019-04-25 00:50           1        \n",
    "2  2877.0  2019-04-25 07:02           1     123\n",
    "3  2881.0  2019-04-25 07:34           1     158\n",
    "4  2886.0  2019-04-25 08:19           1        "
   ]
  },
  {
   "cell_type": "markdown",
   "metadata": {},
   "source": [
    "<a name='1'></a>\n",
    "## Part 2: Prepare the data\n",
    "\n",
    "Check the datatypes of your dataframe. The `glucose` field should be an integer, the `time` field should have a datetime format. If the datatypes are different you should typecast them to the right format.\n",
    "Make sure that your dataset is sorted by the time column\n",
    "\n",
    "\n",
    "<details>    \n",
    "<summary>\n",
    "    <font size=\"3\" color=\"darkgreen\"><b>Hints</b></font>\n",
    "</summary>\n",
    "<ul><li>use astype() method or pandas.DataFrame.to_datetime() for instance</li>\n",
    "    <li>make sure that the empty spaces are filled with NaN. Use errors='coerce'</li>\n",
    "    <li>set_index(), sort_index() and reset_index() are helpful to sort on index</li>\n",
    "</ul>\n",
    "</details>\n",
    "\n",
    "<a name='ex-21'></a>\n",
    "### Code your solution"
   ]
  },
  {
   "cell_type": "code",
   "execution_count": 87,
   "metadata": {},
   "outputs": [
    {
     "data": {
      "text/plain": [
       "ID                     int32\n",
       "time          datetime64[ns]\n",
       "recordtype             int64\n",
       "glucose              float64\n",
       "dtype: object"
      ]
     },
     "execution_count": 87,
     "metadata": {},
     "output_type": "execute_result"
    }
   ],
   "source": [
    "#------ check time column type and convert it to time if it doesn't in that format\n",
    "if df.dtypes[\"time\"] != np.datetime64: \n",
    "    df.time = pd.to_datetime(df.time, errors='coerce')\n",
    "#------ check glucose column type and convert it to int if it doesn't in that format\n",
    "if df.dtypes[\"glucose\"] != np.int64: \n",
    "    #df.glucose = df.glucose.astype(np.int64, errors='ignore')\n",
    "    df.glucose = pd.to_numeric(df.glucose, errors='coerce')\n",
    "#------ print datatype of cloumns\n",
    "df.ID = df.ID.astype(int)\n",
    "df.dtypes"
   ]
  },
  {
   "cell_type": "markdown",
   "metadata": {},
   "source": [
    "#### Expected outcome: "
   ]
  },
  {
   "cell_type": "raw",
   "metadata": {},
   "source": [
    "ID                     int64\n",
    "time          datetime64[ns]\n",
    "recordtype             int64\n",
    "glucose              float64\n",
    "dtype: object"
   ]
  },
  {
   "cell_type": "markdown",
   "metadata": {},
   "source": [
    "<a name='2'></a>\n",
    "## Part 3: Inspect the data\n",
    "\n",
    "Now that we prepared the data we are going to inspect the data to get more familiar with the data. You can answer the questions below but feel free to explore the data further by plotting and or statistics, group by overviews and so on. \n",
    "\n",
    "To be answered at least:\n",
    "- what is the quantity of the data (observations and features)\n",
    "- what is the percentage missing data for glucose?\n",
    "- is there a specific pattern for glucose value and recordtype?\n",
    "- what is the time range?\n",
    "\n",
    "Code the solutions to your answers. Create meaningful overviews or statistics\n",
    "\n",
    "<details>    \n",
    "<summary>\n",
    "    <font size=\"3\" color=\"darkgreen\"><b>Hints</b></font>\n",
    "</summary>\n",
    "<ul><li>In the week 01 assignment some functions were explained to inspect missing values</li>\n",
    "    <li>In the week 01 assignment some functions were explained to groupby value</li>\n",
    "</ul>\n",
    "</details>\n",
    "\n",
    "<a name='ex-31'></a>\n",
    "### Code your solution"
   ]
  },
  {
   "cell_type": "code",
   "execution_count": 88,
   "metadata": {},
   "outputs": [
    {
     "name": "stdout",
     "output_type": "stream",
     "text": [
      "The amount of observations are 136 \n",
      " and the amount of features are 4\n",
      "4\n",
      "The percentage of missing data is 0.7352941176470588\n",
      "glucose and recordtype have not same pattern\n"
     ]
    },
    {
     "data": {
      "text/plain": [
       "DatetimeIndex(['2019-04-25 00:08:00', '2019-04-25 00:09:00',\n",
       "               '2019-04-25 00:10:00', '2019-04-25 00:11:00',\n",
       "               '2019-04-25 00:12:00', '2019-04-25 00:13:00',\n",
       "               '2019-04-25 00:14:00', '2019-04-25 00:15:00',\n",
       "               '2019-04-25 00:16:00', '2019-04-25 00:17:00',\n",
       "               ...\n",
       "               '2019-04-25 23:39:00', '2019-04-25 23:40:00',\n",
       "               '2019-04-25 23:41:00', '2019-04-25 23:42:00',\n",
       "               '2019-04-25 23:43:00', '2019-04-25 23:44:00',\n",
       "               '2019-04-25 23:45:00', '2019-04-25 23:46:00',\n",
       "               '2019-04-25 23:47:00', '2019-04-25 23:48:00'],\n",
       "              dtype='datetime64[ns]', length=1421, freq='T')"
      ]
     },
     "execution_count": 88,
     "metadata": {},
     "output_type": "execute_result"
    }
   ],
   "source": [
    "#------ print the quantity of dataframe\n",
    "strDescription = 'The amount of observations are {0} \\n and the amount of features are {1}'\n",
    "print(strDescription.format(df.shape[0], df.shape[1]))\n",
    "#------ calculate the missing data percentage \n",
    "print(df.isnull().count().count())\n",
    "missingPer = (df.isnull().count().count() / df.values.size) * 100 #df['glucose'].isnull().sum()  / len(df['glucose'])\n",
    "print('The percentage of missing data is {0}'.format(missingPer))\n",
    "#------ check patten of 'glucose' and 'recordtype'\n",
    "dpColGl = dp.patterns_column_value(df.glucose) #get patten value of 'glucose'\n",
    "dpColRt = dp.patterns_column_value(df.recordtype) #get patten value of 'recordtype' \n",
    "if dpColGl == dpColRt: \n",
    "    print('glucose and recordtype have same pattern')\n",
    "else:\n",
    "    print('glucose and recordtype have not same pattern')\n",
    "#------ get time range\n",
    "pd.date_range(start=df.time.min(), end=df.time.max(), freq='T')\n"
   ]
  },
  {
   "cell_type": "markdown",
   "metadata": {},
   "source": [
    "#### Expected outcome percentage missing data\n",
    "0.6176470588235294"
   ]
  },
  {
   "cell_type": "markdown",
   "metadata": {},
   "source": [
    "<a name='3'></a>\n",
    "## Part 4: Interpolate the data\n",
    "\n",
    "A lot of data is missing. Use interpolation to fill the missing values. Create a new column with the interpolated data. Take an argumentative approach. Select an interpolation method that suits the nature of the data and explain your choice. Mind you that the expected outcome of the interpolation values can differ from the example below\n",
    "\n",
    "<details>    \n",
    "<summary>\n",
    "    <font size=\"3\" color=\"darkgreen\"><b>Hints</b></font>\n",
    "</summary>\n",
    "<ul><li>use Pandas.DataFrame.interpolate() method</li>\n",
    "</ul>\n",
    "</details>\n",
    "\n",
    "<a name='ex-41'></a>\n",
    "### Code your solution"
   ]
  },
  {
   "cell_type": "code",
   "execution_count": 89,
   "metadata": {},
   "outputs": [],
   "source": [
    "#add new column named 'interpolated'\n",
    "df['interpolated_pad'] = df.glucose\n",
    "df.interpolated_pad = df.interpolated_pad.interpolate(method='pad') #choose 'pad' method to use the previouse row value\n"
   ]
  },
  {
   "cell_type": "markdown",
   "metadata": {},
   "source": [
    "#### Example outcome"
   ]
  },
  {
   "cell_type": "raw",
   "metadata": {},
   "source": [
    "                 time                   ID  recordtype  glucose  interpolated\n",
    "0 2019-04-25 00:08:00                 2845           1    109.0    109.000000\n",
    "1 2019-04-25 00:14:00 -9223372036854775808           0      NaN    109.466667\n",
    "2 2019-04-25 00:29:00 -9223372036854775808           0      NaN    109.933333\n",
    "3 2019-04-25 00:44:00 -9223372036854775808           0      NaN    110.400000\n",
    "4 2019-04-25 00:50:00                 2850           1      NaN    110.866667"
   ]
  },
  {
   "cell_type": "markdown",
   "metadata": {},
   "source": [
    "<a name='4'></a>\n",
    "## Part 5: Plot the data\n",
    "\n",
    "Create a plot with the original data and the interpolated data. Consider what the best representation is for visualisation of actual values and modelled/imputed values. Provide argumentation for the plot of choice. \n",
    "\n",
    "Mind you, there are several types of plots. The most used are: \n",
    "- Compare values->\tBar, boxplot, violin plot, scatter, line. \n",
    "- Show composition-> Stacked bar, pie, mosaic, area, burtin.\n",
    "- Show distribution-> \tHistogram, density, qqplot, bubble. \n",
    "- Analyzing trend-> Line, bar, dual axis \n",
    "- Relations-> Scatter, heatmap\n",
    "\n",
    "\n",
    "### Code your solution"
   ]
  },
  {
   "cell_type": "code",
   "execution_count": 90,
   "metadata": {},
   "outputs": [
    {
     "data": {
      "text/html": [
       "<style>\n",
       "        .bk-notebook-logo {\n",
       "            display: block;\n",
       "            width: 20px;\n",
       "            height: 20px;\n",
       "            background-image: url(data:image/png;base64,iVBORw0KGgoAAAANSUhEUgAAABQAAAAUCAYAAACNiR0NAAAABHNCSVQICAgIfAhkiAAAAAlwSFlzAAALEgAACxIB0t1+/AAAABx0RVh0U29mdHdhcmUAQWRvYmUgRmlyZXdvcmtzIENTNui8sowAAAOkSURBVDiNjZRtaJVlGMd/1/08zzln5zjP1LWcU9N0NkN8m2CYjpgQYQXqSs0I84OLIC0hkEKoPtiH3gmKoiJDU7QpLgoLjLIQCpEsNJ1vqUOdO7ppbuec5+V+rj4ctwzd8IIbbi6u+8f1539dt3A78eXC7QizUF7gyV1fD1Yqg4JWz84yffhm0qkFqBogB9rM8tZdtwVsPUhWhGcFJngGeWrPzHm5oaMmkfEg1usvLFyc8jLRqDOMru7AyC8saQr7GG7f5fvDeH7Ej8CM66nIF+8yngt6HWaKh7k49Soy9nXurCi1o3qUbS3zWfrYeQDTB/Qj6kX6Ybhw4B+bOYoLKCC9H3Nu/leUTZ1JdRWkkn2ldcCamzrcf47KKXdAJllSlxAOkRgyHsGC/zRday5Qld9DyoM4/q/rUoy/CXh3jzOu3bHUVZeU+DEn8FInkPBFlu3+nW3Nw0mk6vCDiWg8CeJaxEwuHS3+z5RgY+YBR6V1Z1nxSOfoaPa4LASWxxdNp+VWTk7+4vzaou8v8PN+xo+KY2xsw6une2frhw05CTYOmQvsEhjhWjn0bmXPjpE1+kplmmkP3suftwTubK9Vq22qKmrBhpY4jvd5afdRA3wGjFAgcnTK2s4hY0/GPNIb0nErGMCRxWOOX64Z8RAC4oCXdklmEvcL8o0BfkNK4lUg9HTl+oPlQxdNo3Mg4Nv175e/1LDGzZen30MEjRUtmXSfiTVu1kK8W4txyV6BMKlbgk3lMwYCiusNy9fVfvvwMxv8Ynl6vxoByANLTWplvuj/nF9m2+PDtt1eiHPBr1oIfhCChQMBw6Aw0UulqTKZdfVvfG7VcfIqLG9bcldL/+pdWTLxLUy8Qq38heUIjh4XlzZxzQm19lLFlr8vdQ97rjZVOLf8nclzckbcD4wxXMidpX30sFd37Fv/GtwwhzhxGVAprjbg0gCAEeIgwCZyTV2Z1REEW8O4py0wsjeloKoMr6iCY6dP92H6Vw/oTyICIthibxjm/DfN9lVz8IqtqKYLUXfoKVMVQVVJOElGjrnnUt9T9wbgp8AyYKaGlqingHZU/uG2NTZSVqwHQTWkx9hxjkpWDaCg6Ckj5qebgBVbT3V3NNXMSiWSDdGV3hrtzla7J+duwPOToIg42ChPQOQjspnSlp1V+Gjdged7+8UN5CRAV7a5EdFNwCjEaBR27b3W890TE7g24NAP/mMDXRWrGoFPQI9ls/MWO2dWFAar/xcOIImbbpA3zgAAAABJRU5ErkJggg==);\n",
       "        }\n",
       "    </style>\n",
       "    <div>\n",
       "        <a href=\"https://bokeh.org\" target=\"_blank\" class=\"bk-notebook-logo\"></a>\n",
       "        <span id=\"p8028\">Loading BokehJS ...</span>\n",
       "    </div>\n"
      ]
     },
     "metadata": {},
     "output_type": "display_data"
    },
    {
     "data": {
      "application/javascript": "(function(root) {\n  function now() {\n    return new Date();\n  }\n\n  const force = true;\n\n  if (typeof root._bokeh_onload_callbacks === \"undefined\" || force === true) {\n    root._bokeh_onload_callbacks = [];\n    root._bokeh_is_loading = undefined;\n  }\n\nconst JS_MIME_TYPE = 'application/javascript';\n  const HTML_MIME_TYPE = 'text/html';\n  const EXEC_MIME_TYPE = 'application/vnd.bokehjs_exec.v0+json';\n  const CLASS_NAME = 'output_bokeh rendered_html';\n\n  /**\n   * Render data to the DOM node\n   */\n  function render(props, node) {\n    const script = document.createElement(\"script\");\n    node.appendChild(script);\n  }\n\n  /**\n   * Handle when an output is cleared or removed\n   */\n  function handleClearOutput(event, handle) {\n    const cell = handle.cell;\n\n    const id = cell.output_area._bokeh_element_id;\n    const server_id = cell.output_area._bokeh_server_id;\n    // Clean up Bokeh references\n    if (id != null && id in Bokeh.index) {\n      Bokeh.index[id].model.document.clear();\n      delete Bokeh.index[id];\n    }\n\n    if (server_id !== undefined) {\n      // Clean up Bokeh references\n      const cmd_clean = \"from bokeh.io.state import curstate; print(curstate().uuid_to_server['\" + server_id + \"'].get_sessions()[0].document.roots[0]._id)\";\n      cell.notebook.kernel.execute(cmd_clean, {\n        iopub: {\n          output: function(msg) {\n            const id = msg.content.text.trim();\n            if (id in Bokeh.index) {\n              Bokeh.index[id].model.document.clear();\n              delete Bokeh.index[id];\n            }\n          }\n        }\n      });\n      // Destroy server and session\n      const cmd_destroy = \"import bokeh.io.notebook as ion; ion.destroy_server('\" + server_id + \"')\";\n      cell.notebook.kernel.execute(cmd_destroy);\n    }\n  }\n\n  /**\n   * Handle when a new output is added\n   */\n  function handleAddOutput(event, handle) {\n    const output_area = handle.output_area;\n    const output = handle.output;\n\n    // limit handleAddOutput to display_data with EXEC_MIME_TYPE content only\n    if ((output.output_type != \"display_data\") || (!Object.prototype.hasOwnProperty.call(output.data, EXEC_MIME_TYPE))) {\n      return\n    }\n\n    const toinsert = output_area.element.find(\".\" + CLASS_NAME.split(' ')[0]);\n\n    if (output.metadata[EXEC_MIME_TYPE][\"id\"] !== undefined) {\n      toinsert[toinsert.length - 1].firstChild.textContent = output.data[JS_MIME_TYPE];\n      // store reference to embed id on output_area\n      output_area._bokeh_element_id = output.metadata[EXEC_MIME_TYPE][\"id\"];\n    }\n    if (output.metadata[EXEC_MIME_TYPE][\"server_id\"] !== undefined) {\n      const bk_div = document.createElement(\"div\");\n      bk_div.innerHTML = output.data[HTML_MIME_TYPE];\n      const script_attrs = bk_div.children[0].attributes;\n      for (let i = 0; i < script_attrs.length; i++) {\n        toinsert[toinsert.length - 1].firstChild.setAttribute(script_attrs[i].name, script_attrs[i].value);\n        toinsert[toinsert.length - 1].firstChild.textContent = bk_div.children[0].textContent\n      }\n      // store reference to server id on output_area\n      output_area._bokeh_server_id = output.metadata[EXEC_MIME_TYPE][\"server_id\"];\n    }\n  }\n\n  function register_renderer(events, OutputArea) {\n\n    function append_mime(data, metadata, element) {\n      // create a DOM node to render to\n      const toinsert = this.create_output_subarea(\n        metadata,\n        CLASS_NAME,\n        EXEC_MIME_TYPE\n      );\n      this.keyboard_manager.register_events(toinsert);\n      // Render to node\n      const props = {data: data, metadata: metadata[EXEC_MIME_TYPE]};\n      render(props, toinsert[toinsert.length - 1]);\n      element.append(toinsert);\n      return toinsert\n    }\n\n    /* Handle when an output is cleared or removed */\n    events.on('clear_output.CodeCell', handleClearOutput);\n    events.on('delete.Cell', handleClearOutput);\n\n    /* Handle when a new output is added */\n    events.on('output_added.OutputArea', handleAddOutput);\n\n    /**\n     * Register the mime type and append_mime function with output_area\n     */\n    OutputArea.prototype.register_mime_type(EXEC_MIME_TYPE, append_mime, {\n      /* Is output safe? */\n      safe: true,\n      /* Index of renderer in `output_area.display_order` */\n      index: 0\n    });\n  }\n\n  // register the mime type if in Jupyter Notebook environment and previously unregistered\n  if (root.Jupyter !== undefined) {\n    const events = require('base/js/events');\n    const OutputArea = require('notebook/js/outputarea').OutputArea;\n\n    if (OutputArea.prototype.mime_types().indexOf(EXEC_MIME_TYPE) == -1) {\n      register_renderer(events, OutputArea);\n    }\n  }\n  if (typeof (root._bokeh_timeout) === \"undefined\" || force === true) {\n    root._bokeh_timeout = Date.now() + 5000;\n    root._bokeh_failed_load = false;\n  }\n\n  const NB_LOAD_WARNING = {'data': {'text/html':\n     \"<div style='background-color: #fdd'>\\n\"+\n     \"<p>\\n\"+\n     \"BokehJS does not appear to have successfully loaded. If loading BokehJS from CDN, this \\n\"+\n     \"may be due to a slow or bad network connection. Possible fixes:\\n\"+\n     \"</p>\\n\"+\n     \"<ul>\\n\"+\n     \"<li>re-rerun `output_notebook()` to attempt to load from CDN again, or</li>\\n\"+\n     \"<li>use INLINE resources instead, as so:</li>\\n\"+\n     \"</ul>\\n\"+\n     \"<code>\\n\"+\n     \"from bokeh.resources import INLINE\\n\"+\n     \"output_notebook(resources=INLINE)\\n\"+\n     \"</code>\\n\"+\n     \"</div>\"}};\n\n  function display_loaded() {\n    const el = document.getElementById(\"p8028\");\n    if (el != null) {\n      el.textContent = \"BokehJS is loading...\";\n    }\n    if (root.Bokeh !== undefined) {\n      if (el != null) {\n        el.textContent = \"BokehJS \" + root.Bokeh.version + \" successfully loaded.\";\n      }\n    } else if (Date.now() < root._bokeh_timeout) {\n      setTimeout(display_loaded, 100)\n    }\n  }\n\n  function run_callbacks() {\n    try {\n      root._bokeh_onload_callbacks.forEach(function(callback) {\n        if (callback != null)\n          callback();\n      });\n    } finally {\n      delete root._bokeh_onload_callbacks\n    }\n    console.debug(\"Bokeh: all callbacks have finished\");\n  }\n\n  function load_libs(css_urls, js_urls, callback) {\n    if (css_urls == null) css_urls = [];\n    if (js_urls == null) js_urls = [];\n\n    root._bokeh_onload_callbacks.push(callback);\n    if (root._bokeh_is_loading > 0) {\n      console.debug(\"Bokeh: BokehJS is being loaded, scheduling callback at\", now());\n      return null;\n    }\n    if (js_urls == null || js_urls.length === 0) {\n      run_callbacks();\n      return null;\n    }\n    console.debug(\"Bokeh: BokehJS not loaded, scheduling load and callback at\", now());\n    root._bokeh_is_loading = css_urls.length + js_urls.length;\n\n    function on_load() {\n      root._bokeh_is_loading--;\n      if (root._bokeh_is_loading === 0) {\n        console.debug(\"Bokeh: all BokehJS libraries/stylesheets loaded\");\n        run_callbacks()\n      }\n    }\n\n    function on_error(url) {\n      console.error(\"failed to load \" + url);\n    }\n\n    for (let i = 0; i < css_urls.length; i++) {\n      const url = css_urls[i];\n      const element = document.createElement(\"link\");\n      element.onload = on_load;\n      element.onerror = on_error.bind(null, url);\n      element.rel = \"stylesheet\";\n      element.type = \"text/css\";\n      element.href = url;\n      console.debug(\"Bokeh: injecting link tag for BokehJS stylesheet: \", url);\n      document.body.appendChild(element);\n    }\n\n    for (let i = 0; i < js_urls.length; i++) {\n      const url = js_urls[i];\n      const element = document.createElement('script');\n      element.onload = on_load;\n      element.onerror = on_error.bind(null, url);\n      element.async = false;\n      element.src = url;\n      console.debug(\"Bokeh: injecting script tag for BokehJS library: \", url);\n      document.head.appendChild(element);\n    }\n  };\n\n  function inject_raw_css(css) {\n    const element = document.createElement(\"style\");\n    element.appendChild(document.createTextNode(css));\n    document.body.appendChild(element);\n  }\n\n  const js_urls = [\"https://cdn.bokeh.org/bokeh/release/bokeh-3.0.2.min.js\", \"https://cdn.bokeh.org/bokeh/release/bokeh-gl-3.0.2.min.js\", \"https://cdn.bokeh.org/bokeh/release/bokeh-widgets-3.0.2.min.js\", \"https://cdn.bokeh.org/bokeh/release/bokeh-tables-3.0.2.min.js\", \"https://cdn.bokeh.org/bokeh/release/bokeh-mathjax-3.0.2.min.js\"];\n  const css_urls = [];\n\n  const inline_js = [    function(Bokeh) {\n      Bokeh.set_log_level(\"info\");\n    },\nfunction(Bokeh) {\n    }\n  ];\n\n  function run_inline_js() {\n    if (root.Bokeh !== undefined || force === true) {\n          for (let i = 0; i < inline_js.length; i++) {\n      inline_js[i].call(root, root.Bokeh);\n    }\nif (force === true) {\n        display_loaded();\n      }} else if (Date.now() < root._bokeh_timeout) {\n      setTimeout(run_inline_js, 100);\n    } else if (!root._bokeh_failed_load) {\n      console.log(\"Bokeh: BokehJS failed to load within specified timeout.\");\n      root._bokeh_failed_load = true;\n    } else if (force !== true) {\n      const cell = $(document.getElementById(\"p8028\")).parents('.cell').data().cell;\n      cell.output_area.append_execute_result(NB_LOAD_WARNING)\n    }\n  }\n\n  if (root._bokeh_is_loading === 0) {\n    console.debug(\"Bokeh: BokehJS loaded, going straight to plotting\");\n    run_inline_js();\n  } else {\n    load_libs(css_urls, js_urls, function() {\n      console.debug(\"Bokeh: BokehJS plotting callback run at\", now());\n      run_inline_js();\n    });\n  }\n}(window));",
      "application/vnd.bokehjs_load.v0+json": ""
     },
     "metadata": {},
     "output_type": "display_data"
    }
   ],
   "source": [
    "from bokeh.io import output_notebook\n",
    "from bokeh.plotting import figure, show\n",
    "from bokeh.layouts import gridplot\n",
    "from bokeh.io import output_notebook\n",
    "from bokeh.plotting import ColumnDataSource\n",
    "output_notebook()"
   ]
  },
  {
   "cell_type": "code",
   "execution_count": 95,
   "metadata": {},
   "outputs": [
    {
     "data": {
      "text/html": [
       "\n",
       "  <div id=\"de71edb1-64f6-48fa-b462-3b4561d4b2bf\" data-root-id=\"p16453\" style=\"display: contents;\"></div>\n"
      ]
     },
     "metadata": {},
     "output_type": "display_data"
    },
    {
     "data": {
      "application/javascript": "(function(root) {\n  function embed_document(root) {\n  const docs_json = {\"4c5b5920-cf2a-456e-85e3-452299dff09b\":{\"version\":\"3.0.2\",\"title\":\"Bokeh Application\",\"defs\":[],\"roots\":[{\"type\":\"object\",\"name\":\"Figure\",\"id\":\"p16453\",\"attributes\":{\"x_range\":{\"type\":\"object\",\"name\":\"DataRange1d\",\"id\":\"p16454\"},\"y_range\":{\"type\":\"object\",\"name\":\"DataRange1d\",\"id\":\"p16455\"},\"x_scale\":{\"type\":\"object\",\"name\":\"LinearScale\",\"id\":\"p16467\"},\"y_scale\":{\"type\":\"object\",\"name\":\"LinearScale\",\"id\":\"p16469\"},\"title\":{\"type\":\"object\",\"name\":\"Title\",\"id\":\"p16456\",\"attributes\":{\"text\":\"origin_glucose\"}},\"renderers\":[{\"type\":\"object\",\"name\":\"GlyphRenderer\",\"id\":\"p16506\",\"attributes\":{\"data_source\":{\"type\":\"object\",\"name\":\"ColumnDataSource\",\"id\":\"p16500\",\"attributes\":{\"selected\":{\"type\":\"object\",\"name\":\"Selection\",\"id\":\"p16502\",\"attributes\":{\"indices\":[],\"line_indices\":[]}},\"selection_policy\":{\"type\":\"object\",\"name\":\"UnionRenderers\",\"id\":\"p16501\"},\"data\":{\"type\":\"map\",\"entries\":[[\"x\",{\"type\":\"ndarray\",\"array\":{\"type\":\"bytes\",\"data\":\"AABwIB2ldkIAAKyHH6V2QgAA5NA0pXZCAACkpTaldkIAANI4OaV2QgAA3n1CpXZCAAAcGkqldkIAAPa0TaV2QgAAHk9PpXZCAACa4U+ldkIAADIcUKV2QgAA2CpQpXZCAAD6y1CldkIAAIQyUaV2QgAAHG1RpXZCAADWSFKldkIAAHxXUqV2QgAAYK9SpXZCAABS21KldkIAAOoVU6V2QgAAglBTpXZCAADUZlSldkIAAJwWVaV2QgAAcppVpXZCAAAeolaldkIAAE4XV6V2QgAAyqlXpXZCAAC81VeldkIAAPoeWKV2QgAARjxYpXZCAACSWVildkIAAISFWKV2QgAAHMBYpXZCAAAO7FildkIAALT6WKV2QgAAmFJZpXZCAADkb1mldkIAAG7WWaV2QgAABhFapXZCAACeS1qldkIAADaGWqV2QgAAKLJapXZCAABm+1qldkIAAP41W6V2QgAA7n9dpXZCAABOal6ldkIAADLCXqV2QgAARo9fpXZCAAAQdGWldkIAAIQrZ6V2QgAAfFBopXZCAAAuUWqldkIAAEIea6V2QgAAMmhtpXZCAABUeB2ldkIAAA5UHqV2QgAAyC8fpXZCAACCCyCldkIAADznIKV2QgAA9sIhpXZCAACwniKldkIAAGp6I6V2QgAAJFYkpXZCAADeMSWldkIAAJgNJqV2QgAAUukmpXZCAAAMxSeldkIAAMagKKV2QgAAgHwppXZCAAA6WCqldkIAAPQzK6V2QgAArg8spXZCAABo6yyldkIAACLHLaV2QgAA3KIupXZCAACWfi+ldkIAAFBaMKV2QgAACjYxpXZCAADEETKldkIAAH7tMqV2QgAAOMkzpXZCAACYszSldkIAAFKPNaV2QgAADGs2pXZCAADGRjeldkIAAIAiOKV2QgAA4Aw5pXZCAACa6DmldkIAAFTEOqV2QgAADqA7pXZCAADIezyldkIAAIJXPaV2QgAAPDM+pXZCAAD2Dj+ldkIAALDqP6V2QgAAasZApXZCAAAkokGldkIAAN59QqV2QgAAmFlDpXZCAABSNUSldkIAAAwRRaV2QgAAxuxFpXZCAACAyEaldkIAADqkR6V2QgAA9H9IpXZCAACuW0mldkIAAGg3SqV2QgAAUKZNpXZCAAAKgk6ldkIAAGaoU6V2QgAAxpJUpXZCAADaX1WldkIAAGjdWKV2QgAAIrlZpXZCAAA2hlqldkIAAJZwW6V2QgAAxANepXZCAAB+316ldkIAADi7X6V2QgAA8pZgpXZCAACscmGldkIAAGZOYqV2QgAAICpjpXZCAADaBWSldkIAADrwZKV2QgAA9MtlpXZCAACup2aldkIAAGiDZ6V2QgAAIl9opXZCAADcOmmldkIAAJYWaqV2QgAAquNqpXZCAABkv2uldkIAAMSpbKV2QgAAfoVtpXZCAAA4YW6ldkI=\"},\"shape\":[136],\"dtype\":\"float64\",\"order\":\"little\"}],[\"y\",{\"type\":\"ndarray\",\"array\":{\"type\":\"bytes\",\"data\":\"AAAAAABAW0AAAAAAAAD4fwAAAAAAwF5AAAAAAADAY0AAAAAAAAD4fwAAAAAAYGFAAAAAAADgYkAAAAAAACBgQAAAAAAAIGRAAAAAAAAAZ0AAAAAAAEBmQAAAAAAAQGZAAAAAAABAXkAAAAAAAMBbQAAAAAAAgFpAAAAAAADAVkAAAAAAAEBYQAAAAAAAgFpAAAAAAACAWkAAAAAAAEBYQAAAAAAAgFVAAAAAAACAXEAAAAAAACBgQAAAAAAAgF1AAAAAAACAXUAAAAAAAMBcQAAAAAAAQFpAAAAAAABAW0AAAAAAAMBaQAAAAAAAwFtAAAAAAAAAXkAAAAAAACBhQAAAAAAAwGBAAAAAAAAgYEAAAAAAAEBfQAAAAAAAgF5AAAAAAAAAX0AAAAAAAMBfQAAAAAAAQF5AAAAAAADAXkAAAAAAAIBeQAAAAAAAAF9AAAAAAACAX0AAAAAAAABgQAAAAAAAgFtAAAAAAAAAYEAAAAAAAABdQAAAAAAAgFpAAAAAAADgYkAAAAAAAIBfQAAAAAAAQGBAAAAAAACAXEAAAAAAAIBaQAAAAAAAwFtAAAAAAAAA+H8AAAAAAAD4fwAAAAAAAPh/AAAAAAAA+H8AAAAAAAD4fwAAAAAAAPh/AAAAAAAA+H8AAAAAAAD4fwAAAAAAAPh/AAAAAAAA+H8AAAAAAAD4fwAAAAAAAPh/AAAAAAAA+H8AAAAAAAD4fwAAAAAAAPh/AAAAAAAA+H8AAAAAAAD4fwAAAAAAAPh/AAAAAAAA+H8AAAAAAAD4fwAAAAAAAPh/AAAAAAAA+H8AAAAAAAD4fwAAAAAAAPh/AAAAAAAA+H8AAAAAAAD4fwAAAAAAAPh/AAAAAAAA+H8AAAAAAAD4fwAAAAAAAPh/AAAAAAAA+H8AAAAAAAD4fwAAAAAAAPh/AAAAAAAA+H8AAAAAAAD4fwAAAAAAAPh/AAAAAAAA+H8AAAAAAAD4fwAAAAAAAPh/AAAAAAAA+H8AAAAAAAD4fwAAAAAAAPh/AAAAAAAA+H8AAAAAAAD4fwAAAAAAAPh/AAAAAAAA+H8AAAAAAAD4fwAAAAAAAPh/AAAAAAAA+H8AAAAAAAD4fwAAAAAAAPh/AAAAAAAA+H8AAAAAAAD4fwAAAAAAAPh/AAAAAAAA+H8AAAAAAAD4fwAAAAAAAPh/AAAAAAAA+H8AAAAAAAD4fwAAAAAAAPh/AAAAAAAA+H8AAAAAAAD4fwAAAAAAAPh/AAAAAAAA+H8AAAAAAAD4fwAAAAAAAPh/AAAAAAAA+H8AAAAAAAD4fwAAAAAAAPh/AAAAAAAA+H8AAAAAAAD4fwAAAAAAAPh/AAAAAAAA+H8AAAAAAAD4fwAAAAAAAPh/AAAAAAAA+H8AAAAAAAD4fwAAAAAAAPh/AAAAAAAA+H8AAAAAAAD4fwAAAAAAAPh/AAAAAAAA+H8=\"},\"shape\":[136],\"dtype\":\"float64\",\"order\":\"little\"}]]}}},\"view\":{\"type\":\"object\",\"name\":\"CDSView\",\"id\":\"p16507\",\"attributes\":{\"filter\":{\"type\":\"object\",\"name\":\"AllIndices\",\"id\":\"p16508\"}}},\"glyph\":{\"type\":\"object\",\"name\":\"Line\",\"id\":\"p16503\",\"attributes\":{\"x\":{\"type\":\"field\",\"field\":\"x\"},\"y\":{\"type\":\"field\",\"field\":\"y\"},\"line_color\":\"blue\"}},\"nonselection_glyph\":{\"type\":\"object\",\"name\":\"Line\",\"id\":\"p16504\",\"attributes\":{\"x\":{\"type\":\"field\",\"field\":\"x\"},\"y\":{\"type\":\"field\",\"field\":\"y\"},\"line_color\":\"blue\",\"line_alpha\":0.1}},\"muted_glyph\":{\"type\":\"object\",\"name\":\"Line\",\"id\":\"p16505\",\"attributes\":{\"x\":{\"type\":\"field\",\"field\":\"x\"},\"y\":{\"type\":\"field\",\"field\":\"y\"},\"line_color\":\"blue\",\"line_alpha\":0.2}}}},{\"type\":\"object\",\"name\":\"GlyphRenderer\",\"id\":\"p16515\",\"attributes\":{\"data_source\":{\"type\":\"object\",\"name\":\"ColumnDataSource\",\"id\":\"p16509\",\"attributes\":{\"selected\":{\"type\":\"object\",\"name\":\"Selection\",\"id\":\"p16511\",\"attributes\":{\"indices\":[],\"line_indices\":[]}},\"selection_policy\":{\"type\":\"object\",\"name\":\"UnionRenderers\",\"id\":\"p16510\"},\"data\":{\"type\":\"map\",\"entries\":[[\"x\",{\"type\":\"ndarray\",\"array\":{\"type\":\"bytes\",\"data\":\"AABwIB2ldkIAAKyHH6V2QgAA5NA0pXZCAACkpTaldkIAANI4OaV2QgAA3n1CpXZCAAAcGkqldkIAAPa0TaV2QgAAHk9PpXZCAACa4U+ldkIAADIcUKV2QgAA2CpQpXZCAAD6y1CldkIAAIQyUaV2QgAAHG1RpXZCAADWSFKldkIAAHxXUqV2QgAAYK9SpXZCAABS21KldkIAAOoVU6V2QgAAglBTpXZCAADUZlSldkIAAJwWVaV2QgAAcppVpXZCAAAeolaldkIAAE4XV6V2QgAAyqlXpXZCAAC81VeldkIAAPoeWKV2QgAARjxYpXZCAACSWVildkIAAISFWKV2QgAAHMBYpXZCAAAO7FildkIAALT6WKV2QgAAmFJZpXZCAADkb1mldkIAAG7WWaV2QgAABhFapXZCAACeS1qldkIAADaGWqV2QgAAKLJapXZCAABm+1qldkIAAP41W6V2QgAA7n9dpXZCAABOal6ldkIAADLCXqV2QgAARo9fpXZCAAAQdGWldkIAAIQrZ6V2QgAAfFBopXZCAAAuUWqldkIAAEIea6V2QgAAMmhtpXZCAABUeB2ldkIAAA5UHqV2QgAAyC8fpXZCAACCCyCldkIAADznIKV2QgAA9sIhpXZCAACwniKldkIAAGp6I6V2QgAAJFYkpXZCAADeMSWldkIAAJgNJqV2QgAAUukmpXZCAAAMxSeldkIAAMagKKV2QgAAgHwppXZCAAA6WCqldkIAAPQzK6V2QgAArg8spXZCAABo6yyldkIAACLHLaV2QgAA3KIupXZCAACWfi+ldkIAAFBaMKV2QgAACjYxpXZCAADEETKldkIAAH7tMqV2QgAAOMkzpXZCAACYszSldkIAAFKPNaV2QgAADGs2pXZCAADGRjeldkIAAIAiOKV2QgAA4Aw5pXZCAACa6DmldkIAAFTEOqV2QgAADqA7pXZCAADIezyldkIAAIJXPaV2QgAAPDM+pXZCAAD2Dj+ldkIAALDqP6V2QgAAasZApXZCAAAkokGldkIAAN59QqV2QgAAmFlDpXZCAABSNUSldkIAAAwRRaV2QgAAxuxFpXZCAACAyEaldkIAADqkR6V2QgAA9H9IpXZCAACuW0mldkIAAGg3SqV2QgAAUKZNpXZCAAAKgk6ldkIAAGaoU6V2QgAAxpJUpXZCAADaX1WldkIAAGjdWKV2QgAAIrlZpXZCAAA2hlqldkIAAJZwW6V2QgAAxANepXZCAAB+316ldkIAADi7X6V2QgAA8pZgpXZCAACscmGldkIAAGZOYqV2QgAAICpjpXZCAADaBWSldkIAADrwZKV2QgAA9MtlpXZCAACup2aldkIAAGiDZ6V2QgAAIl9opXZCAADcOmmldkIAAJYWaqV2QgAAquNqpXZCAABkv2uldkIAAMSpbKV2QgAAfoVtpXZCAAA4YW6ldkI=\"},\"shape\":[136],\"dtype\":\"float64\",\"order\":\"little\"}],[\"y\",{\"type\":\"ndarray\",\"array\":{\"type\":\"bytes\",\"data\":\"AAAAAABAW0AAAAAAAAD4fwAAAAAAwF5AAAAAAADAY0AAAAAAAAD4fwAAAAAAYGFAAAAAAADgYkAAAAAAACBgQAAAAAAAIGRAAAAAAAAAZ0AAAAAAAEBmQAAAAAAAQGZAAAAAAABAXkAAAAAAAMBbQAAAAAAAgFpAAAAAAADAVkAAAAAAAEBYQAAAAAAAgFpAAAAAAACAWkAAAAAAAEBYQAAAAAAAgFVAAAAAAACAXEAAAAAAACBgQAAAAAAAgF1AAAAAAACAXUAAAAAAAMBcQAAAAAAAQFpAAAAAAABAW0AAAAAAAMBaQAAAAAAAwFtAAAAAAAAAXkAAAAAAACBhQAAAAAAAwGBAAAAAAAAgYEAAAAAAAEBfQAAAAAAAgF5AAAAAAAAAX0AAAAAAAMBfQAAAAAAAQF5AAAAAAADAXkAAAAAAAIBeQAAAAAAAAF9AAAAAAACAX0AAAAAAAABgQAAAAAAAgFtAAAAAAAAAYEAAAAAAAABdQAAAAAAAgFpAAAAAAADgYkAAAAAAAIBfQAAAAAAAQGBAAAAAAACAXEAAAAAAAIBaQAAAAAAAwFtAAAAAAAAA+H8AAAAAAAD4fwAAAAAAAPh/AAAAAAAA+H8AAAAAAAD4fwAAAAAAAPh/AAAAAAAA+H8AAAAAAAD4fwAAAAAAAPh/AAAAAAAA+H8AAAAAAAD4fwAAAAAAAPh/AAAAAAAA+H8AAAAAAAD4fwAAAAAAAPh/AAAAAAAA+H8AAAAAAAD4fwAAAAAAAPh/AAAAAAAA+H8AAAAAAAD4fwAAAAAAAPh/AAAAAAAA+H8AAAAAAAD4fwAAAAAAAPh/AAAAAAAA+H8AAAAAAAD4fwAAAAAAAPh/AAAAAAAA+H8AAAAAAAD4fwAAAAAAAPh/AAAAAAAA+H8AAAAAAAD4fwAAAAAAAPh/AAAAAAAA+H8AAAAAAAD4fwAAAAAAAPh/AAAAAAAA+H8AAAAAAAD4fwAAAAAAAPh/AAAAAAAA+H8AAAAAAAD4fwAAAAAAAPh/AAAAAAAA+H8AAAAAAAD4fwAAAAAAAPh/AAAAAAAA+H8AAAAAAAD4fwAAAAAAAPh/AAAAAAAA+H8AAAAAAAD4fwAAAAAAAPh/AAAAAAAA+H8AAAAAAAD4fwAAAAAAAPh/AAAAAAAA+H8AAAAAAAD4fwAAAAAAAPh/AAAAAAAA+H8AAAAAAAD4fwAAAAAAAPh/AAAAAAAA+H8AAAAAAAD4fwAAAAAAAPh/AAAAAAAA+H8AAAAAAAD4fwAAAAAAAPh/AAAAAAAA+H8AAAAAAAD4fwAAAAAAAPh/AAAAAAAA+H8AAAAAAAD4fwAAAAAAAPh/AAAAAAAA+H8AAAAAAAD4fwAAAAAAAPh/AAAAAAAA+H8AAAAAAAD4fwAAAAAAAPh/AAAAAAAA+H8AAAAAAAD4fwAAAAAAAPh/AAAAAAAA+H8=\"},\"shape\":[136],\"dtype\":\"float64\",\"order\":\"little\"}]]}}},\"view\":{\"type\":\"object\",\"name\":\"CDSView\",\"id\":\"p16516\",\"attributes\":{\"filter\":{\"type\":\"object\",\"name\":\"AllIndices\",\"id\":\"p16517\"}}},\"glyph\":{\"type\":\"object\",\"name\":\"Scatter\",\"id\":\"p16512\",\"attributes\":{\"x\":{\"type\":\"field\",\"field\":\"x\"},\"y\":{\"type\":\"field\",\"field\":\"y\"},\"line_color\":{\"type\":\"value\",\"value\":\"orange\"},\"fill_color\":{\"type\":\"value\",\"value\":\"orange\"},\"hatch_color\":{\"type\":\"value\",\"value\":\"orange\"}}},\"nonselection_glyph\":{\"type\":\"object\",\"name\":\"Scatter\",\"id\":\"p16513\",\"attributes\":{\"x\":{\"type\":\"field\",\"field\":\"x\"},\"y\":{\"type\":\"field\",\"field\":\"y\"},\"line_color\":{\"type\":\"value\",\"value\":\"orange\"},\"line_alpha\":{\"type\":\"value\",\"value\":0.1},\"fill_color\":{\"type\":\"value\",\"value\":\"orange\"},\"fill_alpha\":{\"type\":\"value\",\"value\":0.1},\"hatch_color\":{\"type\":\"value\",\"value\":\"orange\"},\"hatch_alpha\":{\"type\":\"value\",\"value\":0.1}}},\"muted_glyph\":{\"type\":\"object\",\"name\":\"Scatter\",\"id\":\"p16514\",\"attributes\":{\"x\":{\"type\":\"field\",\"field\":\"x\"},\"y\":{\"type\":\"field\",\"field\":\"y\"},\"line_color\":{\"type\":\"value\",\"value\":\"orange\"},\"line_alpha\":{\"type\":\"value\",\"value\":0.2},\"fill_color\":{\"type\":\"value\",\"value\":\"orange\"},\"fill_alpha\":{\"type\":\"value\",\"value\":0.2},\"hatch_color\":{\"type\":\"value\",\"value\":\"orange\"},\"hatch_alpha\":{\"type\":\"value\",\"value\":0.2}}}}}],\"toolbar\":{\"type\":\"object\",\"name\":\"Toolbar\",\"id\":\"p16462\",\"attributes\":{\"tools\":[{\"type\":\"object\",\"name\":\"PanTool\",\"id\":\"p16485\"},{\"type\":\"object\",\"name\":\"WheelZoomTool\",\"id\":\"p16486\"},{\"type\":\"object\",\"name\":\"BoxZoomTool\",\"id\":\"p16487\",\"attributes\":{\"overlay\":{\"type\":\"object\",\"name\":\"BoxAnnotation\",\"id\":\"p16488\",\"attributes\":{\"syncable\":false,\"level\":\"overlay\",\"visible\":false,\"left_units\":\"canvas\",\"right_units\":\"canvas\",\"bottom_units\":\"canvas\",\"top_units\":\"canvas\",\"line_color\":\"black\",\"line_alpha\":1.0,\"line_width\":2,\"line_dash\":[4,4],\"fill_color\":\"lightgrey\",\"fill_alpha\":0.5}}}},{\"type\":\"object\",\"name\":\"SaveTool\",\"id\":\"p16489\"},{\"type\":\"object\",\"name\":\"ResetTool\",\"id\":\"p16490\"},{\"type\":\"object\",\"name\":\"HelpTool\",\"id\":\"p16491\"}]}},\"left\":[{\"type\":\"object\",\"name\":\"LinearAxis\",\"id\":\"p16478\",\"attributes\":{\"ticker\":{\"type\":\"object\",\"name\":\"BasicTicker\",\"id\":\"p16481\",\"attributes\":{\"mantissas\":[1,2,5]}},\"formatter\":{\"type\":\"object\",\"name\":\"BasicTickFormatter\",\"id\":\"p16480\"},\"axis_label\":\"glucose\",\"major_label_policy\":{\"type\":\"object\",\"name\":\"AllLabels\",\"id\":\"p16479\"}}}],\"below\":[{\"type\":\"object\",\"name\":\"LinearAxis\",\"id\":\"p16471\",\"attributes\":{\"ticker\":{\"type\":\"object\",\"name\":\"BasicTicker\",\"id\":\"p16474\",\"attributes\":{\"mantissas\":[1,2,5]}},\"formatter\":{\"type\":\"object\",\"name\":\"BasicTickFormatter\",\"id\":\"p16473\"},\"axis_label\":\"time\",\"major_label_policy\":{\"type\":\"object\",\"name\":\"AllLabels\",\"id\":\"p16472\"}}}],\"center\":[{\"type\":\"object\",\"name\":\"Grid\",\"id\":\"p16477\",\"attributes\":{\"axis\":{\"id\":\"p16471\"},\"grid_line_color\":\"black\"}},{\"type\":\"object\",\"name\":\"Grid\",\"id\":\"p16484\",\"attributes\":{\"dimension\":1,\"axis\":{\"id\":\"p16478\"},\"grid_line_color\":\"black\"}}]}}]}};\n  const render_items = [{\"docid\":\"4c5b5920-cf2a-456e-85e3-452299dff09b\",\"roots\":{\"p16453\":\"de71edb1-64f6-48fa-b462-3b4561d4b2bf\"},\"root_ids\":[\"p16453\"]}];\n  root.Bokeh.embed.embed_items_notebook(docs_json, render_items);\n  }\n  if (root.Bokeh !== undefined) {\n    embed_document(root);\n  } else {\n    let attempts = 0;\n    const timer = setInterval(function(root) {\n      if (root.Bokeh !== undefined) {\n        clearInterval(timer);\n        embed_document(root);\n      } else {\n        attempts++;\n        if (attempts > 100) {\n          clearInterval(timer);\n          console.log(\"Bokeh: ERROR: Unable to run BokehJS code because BokehJS library is missing\");\n        }\n      }\n    }, 10, root)\n  }\n})(window);",
      "application/vnd.bokehjs_exec.v0+json": ""
     },
     "metadata": {
      "application/vnd.bokehjs_exec.v0+json": {
       "id": "p16453"
      }
     },
     "output_type": "display_data"
    },
    {
     "data": {
      "text/html": [
       "\n",
       "  <div id=\"ab625ba1-f0a3-4ef0-a3f6-da4946f6901a\" data-root-id=\"p17227\" style=\"display: contents;\"></div>\n"
      ]
     },
     "metadata": {},
     "output_type": "display_data"
    },
    {
     "data": {
      "application/javascript": "(function(root) {\n  function embed_document(root) {\n  const docs_json = {\"d2996c91-29da-42a5-8d4a-42ccdc56e210\":{\"version\":\"3.0.2\",\"title\":\"Bokeh Application\",\"defs\":[],\"roots\":[{\"type\":\"object\",\"name\":\"Figure\",\"id\":\"p17227\",\"attributes\":{\"x_range\":{\"type\":\"object\",\"name\":\"DataRange1d\",\"id\":\"p17228\"},\"y_range\":{\"type\":\"object\",\"name\":\"DataRange1d\",\"id\":\"p17229\"},\"x_scale\":{\"type\":\"object\",\"name\":\"LinearScale\",\"id\":\"p17241\"},\"y_scale\":{\"type\":\"object\",\"name\":\"LinearScale\",\"id\":\"p17243\"},\"title\":{\"type\":\"object\",\"name\":\"Title\",\"id\":\"p17230\",\"attributes\":{\"text\":\"interpolated_glucose\"}},\"renderers\":[{\"type\":\"object\",\"name\":\"GlyphRenderer\",\"id\":\"p17280\",\"attributes\":{\"data_source\":{\"type\":\"object\",\"name\":\"ColumnDataSource\",\"id\":\"p17274\",\"attributes\":{\"selected\":{\"type\":\"object\",\"name\":\"Selection\",\"id\":\"p17276\",\"attributes\":{\"indices\":[],\"line_indices\":[]}},\"selection_policy\":{\"type\":\"object\",\"name\":\"UnionRenderers\",\"id\":\"p17275\"},\"data\":{\"type\":\"map\",\"entries\":[[\"x\",{\"type\":\"ndarray\",\"array\":{\"type\":\"bytes\",\"data\":\"AABwIB2ldkIAAKyHH6V2QgAA5NA0pXZCAACkpTaldkIAANI4OaV2QgAA3n1CpXZCAAAcGkqldkIAAPa0TaV2QgAAHk9PpXZCAACa4U+ldkIAADIcUKV2QgAA2CpQpXZCAAD6y1CldkIAAIQyUaV2QgAAHG1RpXZCAADWSFKldkIAAHxXUqV2QgAAYK9SpXZCAABS21KldkIAAOoVU6V2QgAAglBTpXZCAADUZlSldkIAAJwWVaV2QgAAcppVpXZCAAAeolaldkIAAE4XV6V2QgAAyqlXpXZCAAC81VeldkIAAPoeWKV2QgAARjxYpXZCAACSWVildkIAAISFWKV2QgAAHMBYpXZCAAAO7FildkIAALT6WKV2QgAAmFJZpXZCAADkb1mldkIAAG7WWaV2QgAABhFapXZCAACeS1qldkIAADaGWqV2QgAAKLJapXZCAABm+1qldkIAAP41W6V2QgAA7n9dpXZCAABOal6ldkIAADLCXqV2QgAARo9fpXZCAAAQdGWldkIAAIQrZ6V2QgAAfFBopXZCAAAuUWqldkIAAEIea6V2QgAAMmhtpXZCAABUeB2ldkIAAA5UHqV2QgAAyC8fpXZCAACCCyCldkIAADznIKV2QgAA9sIhpXZCAACwniKldkIAAGp6I6V2QgAAJFYkpXZCAADeMSWldkIAAJgNJqV2QgAAUukmpXZCAAAMxSeldkIAAMagKKV2QgAAgHwppXZCAAA6WCqldkIAAPQzK6V2QgAArg8spXZCAABo6yyldkIAACLHLaV2QgAA3KIupXZCAACWfi+ldkIAAFBaMKV2QgAACjYxpXZCAADEETKldkIAAH7tMqV2QgAAOMkzpXZCAACYszSldkIAAFKPNaV2QgAADGs2pXZCAADGRjeldkIAAIAiOKV2QgAA4Aw5pXZCAACa6DmldkIAAFTEOqV2QgAADqA7pXZCAADIezyldkIAAIJXPaV2QgAAPDM+pXZCAAD2Dj+ldkIAALDqP6V2QgAAasZApXZCAAAkokGldkIAAN59QqV2QgAAmFlDpXZCAABSNUSldkIAAAwRRaV2QgAAxuxFpXZCAACAyEaldkIAADqkR6V2QgAA9H9IpXZCAACuW0mldkIAAGg3SqV2QgAAUKZNpXZCAAAKgk6ldkIAAGaoU6V2QgAAxpJUpXZCAADaX1WldkIAAGjdWKV2QgAAIrlZpXZCAAA2hlqldkIAAJZwW6V2QgAAxANepXZCAAB+316ldkIAADi7X6V2QgAA8pZgpXZCAACscmGldkIAAGZOYqV2QgAAICpjpXZCAADaBWSldkIAADrwZKV2QgAA9MtlpXZCAACup2aldkIAAGiDZ6V2QgAAIl9opXZCAADcOmmldkIAAJYWaqV2QgAAquNqpXZCAABkv2uldkIAAMSpbKV2QgAAfoVtpXZCAAA4YW6ldkI=\"},\"shape\":[136],\"dtype\":\"float64\",\"order\":\"little\"}],[\"y\",{\"type\":\"ndarray\",\"array\":{\"type\":\"bytes\",\"data\":\"AAAAAABAW0AAAAAAAEBbQAAAAAAAwF5AAAAAAADAY0AAAAAAAMBjQAAAAAAAYGFAAAAAAADgYkAAAAAAACBgQAAAAAAAIGRAAAAAAAAAZ0AAAAAAAEBmQAAAAAAAQGZAAAAAAABAXkAAAAAAAMBbQAAAAAAAgFpAAAAAAADAVkAAAAAAAEBYQAAAAAAAgFpAAAAAAACAWkAAAAAAAEBYQAAAAAAAgFVAAAAAAACAXEAAAAAAACBgQAAAAAAAgF1AAAAAAACAXUAAAAAAAMBcQAAAAAAAQFpAAAAAAABAW0AAAAAAAMBaQAAAAAAAwFtAAAAAAAAAXkAAAAAAACBhQAAAAAAAwGBAAAAAAAAgYEAAAAAAAEBfQAAAAAAAgF5AAAAAAAAAX0AAAAAAAMBfQAAAAAAAQF5AAAAAAADAXkAAAAAAAIBeQAAAAAAAAF9AAAAAAACAX0AAAAAAAABgQAAAAAAAgFtAAAAAAAAAYEAAAAAAAABdQAAAAAAAgFpAAAAAAADgYkAAAAAAAIBfQAAAAAAAQGBAAAAAAACAXEAAAAAAAIBaQAAAAAAAwFtAAAAAAADAW0AAAAAAAMBbQAAAAAAAwFtAAAAAAADAW0AAAAAAAMBbQAAAAAAAwFtAAAAAAADAW0AAAAAAAMBbQAAAAAAAwFtAAAAAAADAW0AAAAAAAMBbQAAAAAAAwFtAAAAAAADAW0AAAAAAAMBbQAAAAAAAwFtAAAAAAADAW0AAAAAAAMBbQAAAAAAAwFtAAAAAAADAW0AAAAAAAMBbQAAAAAAAwFtAAAAAAADAW0AAAAAAAMBbQAAAAAAAwFtAAAAAAADAW0AAAAAAAMBbQAAAAAAAwFtAAAAAAADAW0AAAAAAAMBbQAAAAAAAwFtAAAAAAADAW0AAAAAAAMBbQAAAAAAAwFtAAAAAAADAW0AAAAAAAMBbQAAAAAAAwFtAAAAAAADAW0AAAAAAAMBbQAAAAAAAwFtAAAAAAADAW0AAAAAAAMBbQAAAAAAAwFtAAAAAAADAW0AAAAAAAMBbQAAAAAAAwFtAAAAAAADAW0AAAAAAAMBbQAAAAAAAwFtAAAAAAADAW0AAAAAAAMBbQAAAAAAAwFtAAAAAAADAW0AAAAAAAMBbQAAAAAAAwFtAAAAAAADAW0AAAAAAAMBbQAAAAAAAwFtAAAAAAADAW0AAAAAAAMBbQAAAAAAAwFtAAAAAAADAW0AAAAAAAMBbQAAAAAAAwFtAAAAAAADAW0AAAAAAAMBbQAAAAAAAwFtAAAAAAADAW0AAAAAAAMBbQAAAAAAAwFtAAAAAAADAW0AAAAAAAMBbQAAAAAAAwFtAAAAAAADAW0AAAAAAAMBbQAAAAAAAwFtAAAAAAADAW0AAAAAAAMBbQAAAAAAAwFtAAAAAAADAW0AAAAAAAMBbQAAAAAAAwFtAAAAAAADAW0A=\"},\"shape\":[136],\"dtype\":\"float64\",\"order\":\"little\"}]]}}},\"view\":{\"type\":\"object\",\"name\":\"CDSView\",\"id\":\"p17281\",\"attributes\":{\"filter\":{\"type\":\"object\",\"name\":\"AllIndices\",\"id\":\"p17282\"}}},\"glyph\":{\"type\":\"object\",\"name\":\"Line\",\"id\":\"p17277\",\"attributes\":{\"x\":{\"type\":\"field\",\"field\":\"x\"},\"y\":{\"type\":\"field\",\"field\":\"y\"},\"line_color\":\"blue\"}},\"nonselection_glyph\":{\"type\":\"object\",\"name\":\"Line\",\"id\":\"p17278\",\"attributes\":{\"x\":{\"type\":\"field\",\"field\":\"x\"},\"y\":{\"type\":\"field\",\"field\":\"y\"},\"line_color\":\"blue\",\"line_alpha\":0.1}},\"muted_glyph\":{\"type\":\"object\",\"name\":\"Line\",\"id\":\"p17279\",\"attributes\":{\"x\":{\"type\":\"field\",\"field\":\"x\"},\"y\":{\"type\":\"field\",\"field\":\"y\"},\"line_color\":\"blue\",\"line_alpha\":0.2}}}},{\"type\":\"object\",\"name\":\"GlyphRenderer\",\"id\":\"p17289\",\"attributes\":{\"data_source\":{\"type\":\"object\",\"name\":\"ColumnDataSource\",\"id\":\"p17283\",\"attributes\":{\"selected\":{\"type\":\"object\",\"name\":\"Selection\",\"id\":\"p17285\",\"attributes\":{\"indices\":[],\"line_indices\":[]}},\"selection_policy\":{\"type\":\"object\",\"name\":\"UnionRenderers\",\"id\":\"p17284\"},\"data\":{\"type\":\"map\",\"entries\":[[\"x\",{\"type\":\"ndarray\",\"array\":{\"type\":\"bytes\",\"data\":\"AABwIB2ldkIAAKyHH6V2QgAA5NA0pXZCAACkpTaldkIAANI4OaV2QgAA3n1CpXZCAAAcGkqldkIAAPa0TaV2QgAAHk9PpXZCAACa4U+ldkIAADIcUKV2QgAA2CpQpXZCAAD6y1CldkIAAIQyUaV2QgAAHG1RpXZCAADWSFKldkIAAHxXUqV2QgAAYK9SpXZCAABS21KldkIAAOoVU6V2QgAAglBTpXZCAADUZlSldkIAAJwWVaV2QgAAcppVpXZCAAAeolaldkIAAE4XV6V2QgAAyqlXpXZCAAC81VeldkIAAPoeWKV2QgAARjxYpXZCAACSWVildkIAAISFWKV2QgAAHMBYpXZCAAAO7FildkIAALT6WKV2QgAAmFJZpXZCAADkb1mldkIAAG7WWaV2QgAABhFapXZCAACeS1qldkIAADaGWqV2QgAAKLJapXZCAABm+1qldkIAAP41W6V2QgAA7n9dpXZCAABOal6ldkIAADLCXqV2QgAARo9fpXZCAAAQdGWldkIAAIQrZ6V2QgAAfFBopXZCAAAuUWqldkIAAEIea6V2QgAAMmhtpXZCAABUeB2ldkIAAA5UHqV2QgAAyC8fpXZCAACCCyCldkIAADznIKV2QgAA9sIhpXZCAACwniKldkIAAGp6I6V2QgAAJFYkpXZCAADeMSWldkIAAJgNJqV2QgAAUukmpXZCAAAMxSeldkIAAMagKKV2QgAAgHwppXZCAAA6WCqldkIAAPQzK6V2QgAArg8spXZCAABo6yyldkIAACLHLaV2QgAA3KIupXZCAACWfi+ldkIAAFBaMKV2QgAACjYxpXZCAADEETKldkIAAH7tMqV2QgAAOMkzpXZCAACYszSldkIAAFKPNaV2QgAADGs2pXZCAADGRjeldkIAAIAiOKV2QgAA4Aw5pXZCAACa6DmldkIAAFTEOqV2QgAADqA7pXZCAADIezyldkIAAIJXPaV2QgAAPDM+pXZCAAD2Dj+ldkIAALDqP6V2QgAAasZApXZCAAAkokGldkIAAN59QqV2QgAAmFlDpXZCAABSNUSldkIAAAwRRaV2QgAAxuxFpXZCAACAyEaldkIAADqkR6V2QgAA9H9IpXZCAACuW0mldkIAAGg3SqV2QgAAUKZNpXZCAAAKgk6ldkIAAGaoU6V2QgAAxpJUpXZCAADaX1WldkIAAGjdWKV2QgAAIrlZpXZCAAA2hlqldkIAAJZwW6V2QgAAxANepXZCAAB+316ldkIAADi7X6V2QgAA8pZgpXZCAACscmGldkIAAGZOYqV2QgAAICpjpXZCAADaBWSldkIAADrwZKV2QgAA9MtlpXZCAACup2aldkIAAGiDZ6V2QgAAIl9opXZCAADcOmmldkIAAJYWaqV2QgAAquNqpXZCAABkv2uldkIAAMSpbKV2QgAAfoVtpXZCAAA4YW6ldkI=\"},\"shape\":[136],\"dtype\":\"float64\",\"order\":\"little\"}],[\"y\",{\"type\":\"ndarray\",\"array\":{\"type\":\"bytes\",\"data\":\"AAAAAABAW0AAAAAAAEBbQAAAAAAAwF5AAAAAAADAY0AAAAAAAMBjQAAAAAAAYGFAAAAAAADgYkAAAAAAACBgQAAAAAAAIGRAAAAAAAAAZ0AAAAAAAEBmQAAAAAAAQGZAAAAAAABAXkAAAAAAAMBbQAAAAAAAgFpAAAAAAADAVkAAAAAAAEBYQAAAAAAAgFpAAAAAAACAWkAAAAAAAEBYQAAAAAAAgFVAAAAAAACAXEAAAAAAACBgQAAAAAAAgF1AAAAAAACAXUAAAAAAAMBcQAAAAAAAQFpAAAAAAABAW0AAAAAAAMBaQAAAAAAAwFtAAAAAAAAAXkAAAAAAACBhQAAAAAAAwGBAAAAAAAAgYEAAAAAAAEBfQAAAAAAAgF5AAAAAAAAAX0AAAAAAAMBfQAAAAAAAQF5AAAAAAADAXkAAAAAAAIBeQAAAAAAAAF9AAAAAAACAX0AAAAAAAABgQAAAAAAAgFtAAAAAAAAAYEAAAAAAAABdQAAAAAAAgFpAAAAAAADgYkAAAAAAAIBfQAAAAAAAQGBAAAAAAACAXEAAAAAAAIBaQAAAAAAAwFtAAAAAAADAW0AAAAAAAMBbQAAAAAAAwFtAAAAAAADAW0AAAAAAAMBbQAAAAAAAwFtAAAAAAADAW0AAAAAAAMBbQAAAAAAAwFtAAAAAAADAW0AAAAAAAMBbQAAAAAAAwFtAAAAAAADAW0AAAAAAAMBbQAAAAAAAwFtAAAAAAADAW0AAAAAAAMBbQAAAAAAAwFtAAAAAAADAW0AAAAAAAMBbQAAAAAAAwFtAAAAAAADAW0AAAAAAAMBbQAAAAAAAwFtAAAAAAADAW0AAAAAAAMBbQAAAAAAAwFtAAAAAAADAW0AAAAAAAMBbQAAAAAAAwFtAAAAAAADAW0AAAAAAAMBbQAAAAAAAwFtAAAAAAADAW0AAAAAAAMBbQAAAAAAAwFtAAAAAAADAW0AAAAAAAMBbQAAAAAAAwFtAAAAAAADAW0AAAAAAAMBbQAAAAAAAwFtAAAAAAADAW0AAAAAAAMBbQAAAAAAAwFtAAAAAAADAW0AAAAAAAMBbQAAAAAAAwFtAAAAAAADAW0AAAAAAAMBbQAAAAAAAwFtAAAAAAADAW0AAAAAAAMBbQAAAAAAAwFtAAAAAAADAW0AAAAAAAMBbQAAAAAAAwFtAAAAAAADAW0AAAAAAAMBbQAAAAAAAwFtAAAAAAADAW0AAAAAAAMBbQAAAAAAAwFtAAAAAAADAW0AAAAAAAMBbQAAAAAAAwFtAAAAAAADAW0AAAAAAAMBbQAAAAAAAwFtAAAAAAADAW0AAAAAAAMBbQAAAAAAAwFtAAAAAAADAW0AAAAAAAMBbQAAAAAAAwFtAAAAAAADAW0AAAAAAAMBbQAAAAAAAwFtAAAAAAADAW0AAAAAAAMBbQAAAAAAAwFtAAAAAAADAW0A=\"},\"shape\":[136],\"dtype\":\"float64\",\"order\":\"little\"}]]}}},\"view\":{\"type\":\"object\",\"name\":\"CDSView\",\"id\":\"p17290\",\"attributes\":{\"filter\":{\"type\":\"object\",\"name\":\"AllIndices\",\"id\":\"p17291\"}}},\"glyph\":{\"type\":\"object\",\"name\":\"Scatter\",\"id\":\"p17286\",\"attributes\":{\"x\":{\"type\":\"field\",\"field\":\"x\"},\"y\":{\"type\":\"field\",\"field\":\"y\"},\"line_color\":{\"type\":\"value\",\"value\":\"green\"},\"fill_color\":{\"type\":\"value\",\"value\":\"green\"},\"hatch_color\":{\"type\":\"value\",\"value\":\"green\"}}},\"nonselection_glyph\":{\"type\":\"object\",\"name\":\"Scatter\",\"id\":\"p17287\",\"attributes\":{\"x\":{\"type\":\"field\",\"field\":\"x\"},\"y\":{\"type\":\"field\",\"field\":\"y\"},\"line_color\":{\"type\":\"value\",\"value\":\"green\"},\"line_alpha\":{\"type\":\"value\",\"value\":0.1},\"fill_color\":{\"type\":\"value\",\"value\":\"green\"},\"fill_alpha\":{\"type\":\"value\",\"value\":0.1},\"hatch_color\":{\"type\":\"value\",\"value\":\"green\"},\"hatch_alpha\":{\"type\":\"value\",\"value\":0.1}}},\"muted_glyph\":{\"type\":\"object\",\"name\":\"Scatter\",\"id\":\"p17288\",\"attributes\":{\"x\":{\"type\":\"field\",\"field\":\"x\"},\"y\":{\"type\":\"field\",\"field\":\"y\"},\"line_color\":{\"type\":\"value\",\"value\":\"green\"},\"line_alpha\":{\"type\":\"value\",\"value\":0.2},\"fill_color\":{\"type\":\"value\",\"value\":\"green\"},\"fill_alpha\":{\"type\":\"value\",\"value\":0.2},\"hatch_color\":{\"type\":\"value\",\"value\":\"green\"},\"hatch_alpha\":{\"type\":\"value\",\"value\":0.2}}}}}],\"toolbar\":{\"type\":\"object\",\"name\":\"Toolbar\",\"id\":\"p17236\",\"attributes\":{\"tools\":[{\"type\":\"object\",\"name\":\"PanTool\",\"id\":\"p17259\"},{\"type\":\"object\",\"name\":\"WheelZoomTool\",\"id\":\"p17260\"},{\"type\":\"object\",\"name\":\"BoxZoomTool\",\"id\":\"p17261\",\"attributes\":{\"overlay\":{\"type\":\"object\",\"name\":\"BoxAnnotation\",\"id\":\"p17262\",\"attributes\":{\"syncable\":false,\"level\":\"overlay\",\"visible\":false,\"left_units\":\"canvas\",\"right_units\":\"canvas\",\"bottom_units\":\"canvas\",\"top_units\":\"canvas\",\"line_color\":\"black\",\"line_alpha\":1.0,\"line_width\":2,\"line_dash\":[4,4],\"fill_color\":\"lightgrey\",\"fill_alpha\":0.5}}}},{\"type\":\"object\",\"name\":\"SaveTool\",\"id\":\"p17263\"},{\"type\":\"object\",\"name\":\"ResetTool\",\"id\":\"p17264\"},{\"type\":\"object\",\"name\":\"HelpTool\",\"id\":\"p17265\"}]}},\"left\":[{\"type\":\"object\",\"name\":\"LinearAxis\",\"id\":\"p17252\",\"attributes\":{\"ticker\":{\"type\":\"object\",\"name\":\"BasicTicker\",\"id\":\"p17255\",\"attributes\":{\"mantissas\":[1,2,5]}},\"formatter\":{\"type\":\"object\",\"name\":\"BasicTickFormatter\",\"id\":\"p17254\"},\"axis_label\":\"glucose\",\"major_label_policy\":{\"type\":\"object\",\"name\":\"AllLabels\",\"id\":\"p17253\"}}}],\"below\":[{\"type\":\"object\",\"name\":\"LinearAxis\",\"id\":\"p17245\",\"attributes\":{\"ticker\":{\"type\":\"object\",\"name\":\"BasicTicker\",\"id\":\"p17248\",\"attributes\":{\"mantissas\":[1,2,5]}},\"formatter\":{\"type\":\"object\",\"name\":\"BasicTickFormatter\",\"id\":\"p17247\"},\"axis_label\":\"time\",\"major_label_policy\":{\"type\":\"object\",\"name\":\"AllLabels\",\"id\":\"p17246\"}}}],\"center\":[{\"type\":\"object\",\"name\":\"Grid\",\"id\":\"p17251\",\"attributes\":{\"axis\":{\"id\":\"p17245\"},\"grid_line_color\":\"black\"}},{\"type\":\"object\",\"name\":\"Grid\",\"id\":\"p17258\",\"attributes\":{\"dimension\":1,\"axis\":{\"id\":\"p17252\"},\"grid_line_color\":\"black\"}}]}}]}};\n  const render_items = [{\"docid\":\"d2996c91-29da-42a5-8d4a-42ccdc56e210\",\"roots\":{\"p17227\":\"ab625ba1-f0a3-4ef0-a3f6-da4946f6901a\"},\"root_ids\":[\"p17227\"]}];\n  root.Bokeh.embed.embed_items_notebook(docs_json, render_items);\n  }\n  if (root.Bokeh !== undefined) {\n    embed_document(root);\n  } else {\n    let attempts = 0;\n    const timer = setInterval(function(root) {\n      if (root.Bokeh !== undefined) {\n        clearInterval(timer);\n        embed_document(root);\n      } else {\n        attempts++;\n        if (attempts > 100) {\n          clearInterval(timer);\n          console.log(\"Bokeh: ERROR: Unable to run BokehJS code because BokehJS library is missing\");\n        }\n      }\n    }, 10, root)\n  }\n})(window);",
      "application/vnd.bokehjs_exec.v0+json": ""
     },
     "metadata": {
      "application/vnd.bokehjs_exec.v0+json": {
       "id": "p17227"
      }
     },
     "output_type": "display_data"
    },
    {
     "data": {
      "text/html": [
       "\n",
       "  <div id=\"4380c82e-6655-4b27-a6c2-6075bae65d6c\" data-root-id=\"p18019\" style=\"display: contents;\"></div>\n"
      ]
     },
     "metadata": {},
     "output_type": "display_data"
    },
    {
     "data": {
      "application/javascript": "(function(root) {\n  function embed_document(root) {\n  const docs_json = {\"666e66c4-d02a-4a12-bcdc-afaa2ebb5bf4\":{\"version\":\"3.0.2\",\"title\":\"Bokeh Application\",\"defs\":[],\"roots\":[{\"type\":\"object\",\"name\":\"Figure\",\"id\":\"p18019\",\"attributes\":{\"x_range\":{\"type\":\"object\",\"name\":\"DataRange1d\",\"id\":\"p18020\"},\"y_range\":{\"type\":\"object\",\"name\":\"DataRange1d\",\"id\":\"p18021\"},\"x_scale\":{\"type\":\"object\",\"name\":\"LinearScale\",\"id\":\"p18033\"},\"y_scale\":{\"type\":\"object\",\"name\":\"LinearScale\",\"id\":\"p18035\"},\"title\":{\"type\":\"object\",\"name\":\"Title\",\"id\":\"p18022\",\"attributes\":{\"text\":\"dropped_nan_glucose\"}},\"renderers\":[{\"type\":\"object\",\"name\":\"GlyphRenderer\",\"id\":\"p18072\",\"attributes\":{\"data_source\":{\"type\":\"object\",\"name\":\"ColumnDataSource\",\"id\":\"p18066\",\"attributes\":{\"selected\":{\"type\":\"object\",\"name\":\"Selection\",\"id\":\"p18068\",\"attributes\":{\"indices\":[],\"line_indices\":[]}},\"selection_policy\":{\"type\":\"object\",\"name\":\"UnionRenderers\",\"id\":\"p18067\"},\"data\":{\"type\":\"map\",\"entries\":[[\"x\",{\"type\":\"ndarray\",\"array\":{\"type\":\"bytes\",\"data\":\"AABwIB2ldkIAAKyHH6V2QgAA5NA0pXZCAACkpTaldkIAANI4OaV2QgAA3n1CpXZCAAAcGkqldkIAAPa0TaV2QgAAHk9PpXZCAACa4U+ldkIAADIcUKV2QgAA2CpQpXZCAAD6y1CldkIAAIQyUaV2QgAAHG1RpXZCAADWSFKldkIAAHxXUqV2QgAAYK9SpXZCAABS21KldkIAAOoVU6V2QgAAglBTpXZCAADUZlSldkIAAJwWVaV2QgAAcppVpXZCAAAeolaldkIAAE4XV6V2QgAAyqlXpXZCAAC81VeldkIAAPoeWKV2QgAARjxYpXZCAACSWVildkIAAISFWKV2QgAAHMBYpXZCAAAO7FildkIAALT6WKV2QgAAmFJZpXZCAADkb1mldkIAAG7WWaV2QgAABhFapXZCAACeS1qldkIAADaGWqV2QgAAKLJapXZCAABm+1qldkIAAP41W6V2QgAA7n9dpXZCAABOal6ldkIAADLCXqV2QgAARo9fpXZCAAAQdGWldkIAAIQrZ6V2QgAAfFBopXZCAAAuUWqldkIAAEIea6V2QgAAMmhtpXZC\"},\"shape\":[54],\"dtype\":\"float64\",\"order\":\"little\"}],[\"y\",{\"type\":\"ndarray\",\"array\":{\"type\":\"bytes\",\"data\":\"AAAAAABAW0AAAAAAAAD4fwAAAAAAwF5AAAAAAADAY0AAAAAAAAD4fwAAAAAAYGFAAAAAAADgYkAAAAAAACBgQAAAAAAAIGRAAAAAAAAAZ0AAAAAAAEBmQAAAAAAAQGZAAAAAAABAXkAAAAAAAMBbQAAAAAAAgFpAAAAAAADAVkAAAAAAAEBYQAAAAAAAgFpAAAAAAACAWkAAAAAAAEBYQAAAAAAAgFVAAAAAAACAXEAAAAAAACBgQAAAAAAAgF1AAAAAAACAXUAAAAAAAMBcQAAAAAAAQFpAAAAAAABAW0AAAAAAAMBaQAAAAAAAwFtAAAAAAAAAXkAAAAAAACBhQAAAAAAAwGBAAAAAAAAgYEAAAAAAAEBfQAAAAAAAgF5AAAAAAAAAX0AAAAAAAMBfQAAAAAAAQF5AAAAAAADAXkAAAAAAAIBeQAAAAAAAAF9AAAAAAACAX0AAAAAAAABgQAAAAAAAgFtAAAAAAAAAYEAAAAAAAABdQAAAAAAAgFpAAAAAAADgYkAAAAAAAIBfQAAAAAAAQGBAAAAAAACAXEAAAAAAAIBaQAAAAAAAwFtA\"},\"shape\":[54],\"dtype\":\"float64\",\"order\":\"little\"}]]}}},\"view\":{\"type\":\"object\",\"name\":\"CDSView\",\"id\":\"p18073\",\"attributes\":{\"filter\":{\"type\":\"object\",\"name\":\"AllIndices\",\"id\":\"p18074\"}}},\"glyph\":{\"type\":\"object\",\"name\":\"Line\",\"id\":\"p18069\",\"attributes\":{\"x\":{\"type\":\"field\",\"field\":\"x\"},\"y\":{\"type\":\"field\",\"field\":\"y\"},\"line_color\":\"blue\"}},\"nonselection_glyph\":{\"type\":\"object\",\"name\":\"Line\",\"id\":\"p18070\",\"attributes\":{\"x\":{\"type\":\"field\",\"field\":\"x\"},\"y\":{\"type\":\"field\",\"field\":\"y\"},\"line_color\":\"blue\",\"line_alpha\":0.1}},\"muted_glyph\":{\"type\":\"object\",\"name\":\"Line\",\"id\":\"p18071\",\"attributes\":{\"x\":{\"type\":\"field\",\"field\":\"x\"},\"y\":{\"type\":\"field\",\"field\":\"y\"},\"line_color\":\"blue\",\"line_alpha\":0.2}}}},{\"type\":\"object\",\"name\":\"GlyphRenderer\",\"id\":\"p18081\",\"attributes\":{\"data_source\":{\"type\":\"object\",\"name\":\"ColumnDataSource\",\"id\":\"p18075\",\"attributes\":{\"selected\":{\"type\":\"object\",\"name\":\"Selection\",\"id\":\"p18077\",\"attributes\":{\"indices\":[],\"line_indices\":[]}},\"selection_policy\":{\"type\":\"object\",\"name\":\"UnionRenderers\",\"id\":\"p18076\"},\"data\":{\"type\":\"map\",\"entries\":[[\"x\",{\"type\":\"ndarray\",\"array\":{\"type\":\"bytes\",\"data\":\"AABwIB2ldkIAAKyHH6V2QgAA5NA0pXZCAACkpTaldkIAANI4OaV2QgAA3n1CpXZCAAAcGkqldkIAAPa0TaV2QgAAHk9PpXZCAACa4U+ldkIAADIcUKV2QgAA2CpQpXZCAAD6y1CldkIAAIQyUaV2QgAAHG1RpXZCAADWSFKldkIAAHxXUqV2QgAAYK9SpXZCAABS21KldkIAAOoVU6V2QgAAglBTpXZCAADUZlSldkIAAJwWVaV2QgAAcppVpXZCAAAeolaldkIAAE4XV6V2QgAAyqlXpXZCAAC81VeldkIAAPoeWKV2QgAARjxYpXZCAACSWVildkIAAISFWKV2QgAAHMBYpXZCAAAO7FildkIAALT6WKV2QgAAmFJZpXZCAADkb1mldkIAAG7WWaV2QgAABhFapXZCAACeS1qldkIAADaGWqV2QgAAKLJapXZCAABm+1qldkIAAP41W6V2QgAA7n9dpXZCAABOal6ldkIAADLCXqV2QgAARo9fpXZCAAAQdGWldkIAAIQrZ6V2QgAAfFBopXZCAAAuUWqldkIAAEIea6V2QgAAMmhtpXZC\"},\"shape\":[54],\"dtype\":\"float64\",\"order\":\"little\"}],[\"y\",{\"type\":\"ndarray\",\"array\":{\"type\":\"bytes\",\"data\":\"AAAAAABAW0AAAAAAAAD4fwAAAAAAwF5AAAAAAADAY0AAAAAAAAD4fwAAAAAAYGFAAAAAAADgYkAAAAAAACBgQAAAAAAAIGRAAAAAAAAAZ0AAAAAAAEBmQAAAAAAAQGZAAAAAAABAXkAAAAAAAMBbQAAAAAAAgFpAAAAAAADAVkAAAAAAAEBYQAAAAAAAgFpAAAAAAACAWkAAAAAAAEBYQAAAAAAAgFVAAAAAAACAXEAAAAAAACBgQAAAAAAAgF1AAAAAAACAXUAAAAAAAMBcQAAAAAAAQFpAAAAAAABAW0AAAAAAAMBaQAAAAAAAwFtAAAAAAAAAXkAAAAAAACBhQAAAAAAAwGBAAAAAAAAgYEAAAAAAAEBfQAAAAAAAgF5AAAAAAAAAX0AAAAAAAMBfQAAAAAAAQF5AAAAAAADAXkAAAAAAAIBeQAAAAAAAAF9AAAAAAACAX0AAAAAAAABgQAAAAAAAgFtAAAAAAAAAYEAAAAAAAABdQAAAAAAAgFpAAAAAAADgYkAAAAAAAIBfQAAAAAAAQGBAAAAAAACAXEAAAAAAAIBaQAAAAAAAwFtA\"},\"shape\":[54],\"dtype\":\"float64\",\"order\":\"little\"}]]}}},\"view\":{\"type\":\"object\",\"name\":\"CDSView\",\"id\":\"p18082\",\"attributes\":{\"filter\":{\"type\":\"object\",\"name\":\"AllIndices\",\"id\":\"p18083\"}}},\"glyph\":{\"type\":\"object\",\"name\":\"Scatter\",\"id\":\"p18078\",\"attributes\":{\"x\":{\"type\":\"field\",\"field\":\"x\"},\"y\":{\"type\":\"field\",\"field\":\"y\"},\"line_color\":{\"type\":\"value\",\"value\":\"green\"},\"fill_color\":{\"type\":\"value\",\"value\":\"green\"},\"hatch_color\":{\"type\":\"value\",\"value\":\"green\"}}},\"nonselection_glyph\":{\"type\":\"object\",\"name\":\"Scatter\",\"id\":\"p18079\",\"attributes\":{\"x\":{\"type\":\"field\",\"field\":\"x\"},\"y\":{\"type\":\"field\",\"field\":\"y\"},\"line_color\":{\"type\":\"value\",\"value\":\"green\"},\"line_alpha\":{\"type\":\"value\",\"value\":0.1},\"fill_color\":{\"type\":\"value\",\"value\":\"green\"},\"fill_alpha\":{\"type\":\"value\",\"value\":0.1},\"hatch_color\":{\"type\":\"value\",\"value\":\"green\"},\"hatch_alpha\":{\"type\":\"value\",\"value\":0.1}}},\"muted_glyph\":{\"type\":\"object\",\"name\":\"Scatter\",\"id\":\"p18080\",\"attributes\":{\"x\":{\"type\":\"field\",\"field\":\"x\"},\"y\":{\"type\":\"field\",\"field\":\"y\"},\"line_color\":{\"type\":\"value\",\"value\":\"green\"},\"line_alpha\":{\"type\":\"value\",\"value\":0.2},\"fill_color\":{\"type\":\"value\",\"value\":\"green\"},\"fill_alpha\":{\"type\":\"value\",\"value\":0.2},\"hatch_color\":{\"type\":\"value\",\"value\":\"green\"},\"hatch_alpha\":{\"type\":\"value\",\"value\":0.2}}}}}],\"toolbar\":{\"type\":\"object\",\"name\":\"Toolbar\",\"id\":\"p18028\",\"attributes\":{\"tools\":[{\"type\":\"object\",\"name\":\"PanTool\",\"id\":\"p18051\"},{\"type\":\"object\",\"name\":\"WheelZoomTool\",\"id\":\"p18052\"},{\"type\":\"object\",\"name\":\"BoxZoomTool\",\"id\":\"p18053\",\"attributes\":{\"overlay\":{\"type\":\"object\",\"name\":\"BoxAnnotation\",\"id\":\"p18054\",\"attributes\":{\"syncable\":false,\"level\":\"overlay\",\"visible\":false,\"left_units\":\"canvas\",\"right_units\":\"canvas\",\"bottom_units\":\"canvas\",\"top_units\":\"canvas\",\"line_color\":\"black\",\"line_alpha\":1.0,\"line_width\":2,\"line_dash\":[4,4],\"fill_color\":\"lightgrey\",\"fill_alpha\":0.5}}}},{\"type\":\"object\",\"name\":\"SaveTool\",\"id\":\"p18055\"},{\"type\":\"object\",\"name\":\"ResetTool\",\"id\":\"p18056\"},{\"type\":\"object\",\"name\":\"HelpTool\",\"id\":\"p18057\"}]}},\"left\":[{\"type\":\"object\",\"name\":\"LinearAxis\",\"id\":\"p18044\",\"attributes\":{\"ticker\":{\"type\":\"object\",\"name\":\"BasicTicker\",\"id\":\"p18047\",\"attributes\":{\"mantissas\":[1,2,5]}},\"formatter\":{\"type\":\"object\",\"name\":\"BasicTickFormatter\",\"id\":\"p18046\"},\"axis_label\":\"glucose\",\"major_label_policy\":{\"type\":\"object\",\"name\":\"AllLabels\",\"id\":\"p18045\"}}}],\"below\":[{\"type\":\"object\",\"name\":\"LinearAxis\",\"id\":\"p18037\",\"attributes\":{\"ticker\":{\"type\":\"object\",\"name\":\"BasicTicker\",\"id\":\"p18040\",\"attributes\":{\"mantissas\":[1,2,5]}},\"formatter\":{\"type\":\"object\",\"name\":\"BasicTickFormatter\",\"id\":\"p18039\"},\"axis_label\":\"time\",\"major_label_policy\":{\"type\":\"object\",\"name\":\"AllLabels\",\"id\":\"p18038\"}}}],\"center\":[{\"type\":\"object\",\"name\":\"Grid\",\"id\":\"p18043\",\"attributes\":{\"axis\":{\"id\":\"p18037\"},\"grid_line_color\":\"black\"}},{\"type\":\"object\",\"name\":\"Grid\",\"id\":\"p18050\",\"attributes\":{\"dimension\":1,\"axis\":{\"id\":\"p18044\"},\"grid_line_color\":\"black\"}}]}}]}};\n  const render_items = [{\"docid\":\"666e66c4-d02a-4a12-bcdc-afaa2ebb5bf4\",\"roots\":{\"p18019\":\"4380c82e-6655-4b27-a6c2-6075bae65d6c\"},\"root_ids\":[\"p18019\"]}];\n  root.Bokeh.embed.embed_items_notebook(docs_json, render_items);\n  }\n  if (root.Bokeh !== undefined) {\n    embed_document(root);\n  } else {\n    let attempts = 0;\n    const timer = setInterval(function(root) {\n      if (root.Bokeh !== undefined) {\n        clearInterval(timer);\n        embed_document(root);\n      } else {\n        attempts++;\n        if (attempts > 100) {\n          clearInterval(timer);\n          console.log(\"Bokeh: ERROR: Unable to run BokehJS code because BokehJS library is missing\");\n        }\n      }\n    }, 10, root)\n  }\n})(window);",
      "application/vnd.bokehjs_exec.v0+json": ""
     },
     "metadata": {
      "application/vnd.bokehjs_exec.v0+json": {
       "id": "p18019"
      }
     },
     "output_type": "display_data"
    },
    {
     "data": {
      "text/html": [
       "\n",
       "  <div id=\"5434cc36-b06b-4e3a-87fe-4915218ca1c9\" data-root-id=\"p18829\" style=\"display: contents;\"></div>\n"
      ]
     },
     "metadata": {},
     "output_type": "display_data"
    },
    {
     "data": {
      "application/javascript": "(function(root) {\n  function embed_document(root) {\n  const docs_json = {\"fcb48130-e43f-4e7d-9d51-8f7626c0e78b\":{\"version\":\"3.0.2\",\"title\":\"Bokeh Application\",\"defs\":[],\"roots\":[{\"type\":\"object\",\"name\":\"Figure\",\"id\":\"p18829\",\"attributes\":{\"x_range\":{\"type\":\"object\",\"name\":\"DataRange1d\",\"id\":\"p18830\"},\"y_range\":{\"type\":\"object\",\"name\":\"DataRange1d\",\"id\":\"p18831\"},\"x_scale\":{\"type\":\"object\",\"name\":\"LinearScale\",\"id\":\"p18843\"},\"y_scale\":{\"type\":\"object\",\"name\":\"LinearScale\",\"id\":\"p18845\"},\"title\":{\"type\":\"object\",\"name\":\"Title\",\"id\":\"p18832\",\"attributes\":{\"text\":\"interpolated_glucose\"}},\"renderers\":[{\"type\":\"object\",\"name\":\"GlyphRenderer\",\"id\":\"p18882\",\"attributes\":{\"data_source\":{\"type\":\"object\",\"name\":\"ColumnDataSource\",\"id\":\"p18876\",\"attributes\":{\"selected\":{\"type\":\"object\",\"name\":\"Selection\",\"id\":\"p18878\",\"attributes\":{\"indices\":[],\"line_indices\":[]}},\"selection_policy\":{\"type\":\"object\",\"name\":\"UnionRenderers\",\"id\":\"p18877\"},\"data\":{\"type\":\"map\",\"entries\":[[\"x\",{\"type\":\"ndarray\",\"array\":{\"type\":\"bytes\",\"data\":\"AABwIB2ldkIAAKyHH6V2QgAA5NA0pXZCAACkpTaldkIAANI4OaV2QgAA3n1CpXZCAAAcGkqldkIAAPa0TaV2QgAAHk9PpXZCAACa4U+ldkIAADIcUKV2QgAA2CpQpXZCAAD6y1CldkIAAIQyUaV2QgAAHG1RpXZCAADWSFKldkIAAHxXUqV2QgAAYK9SpXZCAABS21KldkIAAOoVU6V2QgAAglBTpXZCAADUZlSldkIAAJwWVaV2QgAAcppVpXZCAAAeolaldkIAAE4XV6V2QgAAyqlXpXZCAAC81VeldkIAAPoeWKV2QgAARjxYpXZCAACSWVildkIAAISFWKV2QgAAHMBYpXZCAAAO7FildkIAALT6WKV2QgAAmFJZpXZCAADkb1mldkIAAG7WWaV2QgAABhFapXZCAACeS1qldkIAADaGWqV2QgAAKLJapXZCAABm+1qldkIAAP41W6V2QgAA7n9dpXZCAABOal6ldkIAADLCXqV2QgAARo9fpXZCAAAQdGWldkIAAIQrZ6V2QgAAfFBopXZCAAAuUWqldkIAAEIea6V2QgAAMmhtpXZC\"},\"shape\":[54],\"dtype\":\"float64\",\"order\":\"little\"}],[\"y\",{\"type\":\"ndarray\",\"array\":{\"type\":\"bytes\",\"data\":\"AAAAAABAW0AAAAAAAEBbQAAAAAAAwF5AAAAAAADAY0AAAAAAAMBjQAAAAAAAYGFAAAAAAADgYkAAAAAAACBgQAAAAAAAIGRAAAAAAAAAZ0AAAAAAAEBmQAAAAAAAQGZAAAAAAABAXkAAAAAAAMBbQAAAAAAAgFpAAAAAAADAVkAAAAAAAEBYQAAAAAAAgFpAAAAAAACAWkAAAAAAAEBYQAAAAAAAgFVAAAAAAACAXEAAAAAAACBgQAAAAAAAgF1AAAAAAACAXUAAAAAAAMBcQAAAAAAAQFpAAAAAAABAW0AAAAAAAMBaQAAAAAAAwFtAAAAAAAAAXkAAAAAAACBhQAAAAAAAwGBAAAAAAAAgYEAAAAAAAEBfQAAAAAAAgF5AAAAAAAAAX0AAAAAAAMBfQAAAAAAAQF5AAAAAAADAXkAAAAAAAIBeQAAAAAAAAF9AAAAAAACAX0AAAAAAAABgQAAAAAAAgFtAAAAAAAAAYEAAAAAAAABdQAAAAAAAgFpAAAAAAADgYkAAAAAAAIBfQAAAAAAAQGBAAAAAAACAXEAAAAAAAIBaQAAAAAAAwFtA\"},\"shape\":[54],\"dtype\":\"float64\",\"order\":\"little\"}]]}}},\"view\":{\"type\":\"object\",\"name\":\"CDSView\",\"id\":\"p18883\",\"attributes\":{\"filter\":{\"type\":\"object\",\"name\":\"AllIndices\",\"id\":\"p18884\"}}},\"glyph\":{\"type\":\"object\",\"name\":\"Line\",\"id\":\"p18879\",\"attributes\":{\"x\":{\"type\":\"field\",\"field\":\"x\"},\"y\":{\"type\":\"field\",\"field\":\"y\"},\"line_color\":\"blue\"}},\"nonselection_glyph\":{\"type\":\"object\",\"name\":\"Line\",\"id\":\"p18880\",\"attributes\":{\"x\":{\"type\":\"field\",\"field\":\"x\"},\"y\":{\"type\":\"field\",\"field\":\"y\"},\"line_color\":\"blue\",\"line_alpha\":0.1}},\"muted_glyph\":{\"type\":\"object\",\"name\":\"Line\",\"id\":\"p18881\",\"attributes\":{\"x\":{\"type\":\"field\",\"field\":\"x\"},\"y\":{\"type\":\"field\",\"field\":\"y\"},\"line_color\":\"blue\",\"line_alpha\":0.2}}}},{\"type\":\"object\",\"name\":\"GlyphRenderer\",\"id\":\"p18891\",\"attributes\":{\"data_source\":{\"type\":\"object\",\"name\":\"ColumnDataSource\",\"id\":\"p18885\",\"attributes\":{\"selected\":{\"type\":\"object\",\"name\":\"Selection\",\"id\":\"p18887\",\"attributes\":{\"indices\":[],\"line_indices\":[]}},\"selection_policy\":{\"type\":\"object\",\"name\":\"UnionRenderers\",\"id\":\"p18886\"},\"data\":{\"type\":\"map\",\"entries\":[[\"x\",{\"type\":\"ndarray\",\"array\":{\"type\":\"bytes\",\"data\":\"AABwIB2ldkIAAKyHH6V2QgAA5NA0pXZCAACkpTaldkIAANI4OaV2QgAA3n1CpXZCAAAcGkqldkIAAPa0TaV2QgAAHk9PpXZCAACa4U+ldkIAADIcUKV2QgAA2CpQpXZCAAD6y1CldkIAAIQyUaV2QgAAHG1RpXZCAADWSFKldkIAAHxXUqV2QgAAYK9SpXZCAABS21KldkIAAOoVU6V2QgAAglBTpXZCAADUZlSldkIAAJwWVaV2QgAAcppVpXZCAAAeolaldkIAAE4XV6V2QgAAyqlXpXZCAAC81VeldkIAAPoeWKV2QgAARjxYpXZCAACSWVildkIAAISFWKV2QgAAHMBYpXZCAAAO7FildkIAALT6WKV2QgAAmFJZpXZCAADkb1mldkIAAG7WWaV2QgAABhFapXZCAACeS1qldkIAADaGWqV2QgAAKLJapXZCAABm+1qldkIAAP41W6V2QgAA7n9dpXZCAABOal6ldkIAADLCXqV2QgAARo9fpXZCAAAQdGWldkIAAIQrZ6V2QgAAfFBopXZCAAAuUWqldkIAAEIea6V2QgAAMmhtpXZC\"},\"shape\":[54],\"dtype\":\"float64\",\"order\":\"little\"}],[\"y\",{\"type\":\"ndarray\",\"array\":{\"type\":\"bytes\",\"data\":\"AAAAAABAW0AAAAAAAEBbQAAAAAAAwF5AAAAAAADAY0AAAAAAAMBjQAAAAAAAYGFAAAAAAADgYkAAAAAAACBgQAAAAAAAIGRAAAAAAAAAZ0AAAAAAAEBmQAAAAAAAQGZAAAAAAABAXkAAAAAAAMBbQAAAAAAAgFpAAAAAAADAVkAAAAAAAEBYQAAAAAAAgFpAAAAAAACAWkAAAAAAAEBYQAAAAAAAgFVAAAAAAACAXEAAAAAAACBgQAAAAAAAgF1AAAAAAACAXUAAAAAAAMBcQAAAAAAAQFpAAAAAAABAW0AAAAAAAMBaQAAAAAAAwFtAAAAAAAAAXkAAAAAAACBhQAAAAAAAwGBAAAAAAAAgYEAAAAAAAEBfQAAAAAAAgF5AAAAAAAAAX0AAAAAAAMBfQAAAAAAAQF5AAAAAAADAXkAAAAAAAIBeQAAAAAAAAF9AAAAAAACAX0AAAAAAAABgQAAAAAAAgFtAAAAAAAAAYEAAAAAAAABdQAAAAAAAgFpAAAAAAADgYkAAAAAAAIBfQAAAAAAAQGBAAAAAAACAXEAAAAAAAIBaQAAAAAAAwFtA\"},\"shape\":[54],\"dtype\":\"float64\",\"order\":\"little\"}]]}}},\"view\":{\"type\":\"object\",\"name\":\"CDSView\",\"id\":\"p18892\",\"attributes\":{\"filter\":{\"type\":\"object\",\"name\":\"AllIndices\",\"id\":\"p18893\"}}},\"glyph\":{\"type\":\"object\",\"name\":\"Scatter\",\"id\":\"p18888\",\"attributes\":{\"x\":{\"type\":\"field\",\"field\":\"x\"},\"y\":{\"type\":\"field\",\"field\":\"y\"},\"line_color\":{\"type\":\"value\",\"value\":\"green\"},\"fill_color\":{\"type\":\"value\",\"value\":\"green\"},\"hatch_color\":{\"type\":\"value\",\"value\":\"green\"}}},\"nonselection_glyph\":{\"type\":\"object\",\"name\":\"Scatter\",\"id\":\"p18889\",\"attributes\":{\"x\":{\"type\":\"field\",\"field\":\"x\"},\"y\":{\"type\":\"field\",\"field\":\"y\"},\"line_color\":{\"type\":\"value\",\"value\":\"green\"},\"line_alpha\":{\"type\":\"value\",\"value\":0.1},\"fill_color\":{\"type\":\"value\",\"value\":\"green\"},\"fill_alpha\":{\"type\":\"value\",\"value\":0.1},\"hatch_color\":{\"type\":\"value\",\"value\":\"green\"},\"hatch_alpha\":{\"type\":\"value\",\"value\":0.1}}},\"muted_glyph\":{\"type\":\"object\",\"name\":\"Scatter\",\"id\":\"p18890\",\"attributes\":{\"x\":{\"type\":\"field\",\"field\":\"x\"},\"y\":{\"type\":\"field\",\"field\":\"y\"},\"line_color\":{\"type\":\"value\",\"value\":\"green\"},\"line_alpha\":{\"type\":\"value\",\"value\":0.2},\"fill_color\":{\"type\":\"value\",\"value\":\"green\"},\"fill_alpha\":{\"type\":\"value\",\"value\":0.2},\"hatch_color\":{\"type\":\"value\",\"value\":\"green\"},\"hatch_alpha\":{\"type\":\"value\",\"value\":0.2}}}}}],\"toolbar\":{\"type\":\"object\",\"name\":\"Toolbar\",\"id\":\"p18838\",\"attributes\":{\"tools\":[{\"type\":\"object\",\"name\":\"PanTool\",\"id\":\"p18861\"},{\"type\":\"object\",\"name\":\"WheelZoomTool\",\"id\":\"p18862\"},{\"type\":\"object\",\"name\":\"BoxZoomTool\",\"id\":\"p18863\",\"attributes\":{\"overlay\":{\"type\":\"object\",\"name\":\"BoxAnnotation\",\"id\":\"p18864\",\"attributes\":{\"syncable\":false,\"level\":\"overlay\",\"visible\":false,\"left_units\":\"canvas\",\"right_units\":\"canvas\",\"bottom_units\":\"canvas\",\"top_units\":\"canvas\",\"line_color\":\"black\",\"line_alpha\":1.0,\"line_width\":2,\"line_dash\":[4,4],\"fill_color\":\"lightgrey\",\"fill_alpha\":0.5}}}},{\"type\":\"object\",\"name\":\"SaveTool\",\"id\":\"p18865\"},{\"type\":\"object\",\"name\":\"ResetTool\",\"id\":\"p18866\"},{\"type\":\"object\",\"name\":\"HelpTool\",\"id\":\"p18867\"}]}},\"left\":[{\"type\":\"object\",\"name\":\"LinearAxis\",\"id\":\"p18854\",\"attributes\":{\"ticker\":{\"type\":\"object\",\"name\":\"BasicTicker\",\"id\":\"p18857\",\"attributes\":{\"mantissas\":[1,2,5]}},\"formatter\":{\"type\":\"object\",\"name\":\"BasicTickFormatter\",\"id\":\"p18856\"},\"axis_label\":\"glucose\",\"major_label_policy\":{\"type\":\"object\",\"name\":\"AllLabels\",\"id\":\"p18855\"}}}],\"below\":[{\"type\":\"object\",\"name\":\"LinearAxis\",\"id\":\"p18847\",\"attributes\":{\"ticker\":{\"type\":\"object\",\"name\":\"BasicTicker\",\"id\":\"p18850\",\"attributes\":{\"mantissas\":[1,2,5]}},\"formatter\":{\"type\":\"object\",\"name\":\"BasicTickFormatter\",\"id\":\"p18849\"},\"axis_label\":\"time\",\"major_label_policy\":{\"type\":\"object\",\"name\":\"AllLabels\",\"id\":\"p18848\"}}}],\"center\":[{\"type\":\"object\",\"name\":\"Grid\",\"id\":\"p18853\",\"attributes\":{\"axis\":{\"id\":\"p18847\"},\"grid_line_color\":\"black\"}},{\"type\":\"object\",\"name\":\"Grid\",\"id\":\"p18860\",\"attributes\":{\"dimension\":1,\"axis\":{\"id\":\"p18854\"},\"grid_line_color\":\"black\"}}]}}]}};\n  const render_items = [{\"docid\":\"fcb48130-e43f-4e7d-9d51-8f7626c0e78b\",\"roots\":{\"p18829\":\"5434cc36-b06b-4e3a-87fe-4915218ca1c9\"},\"root_ids\":[\"p18829\"]}];\n  root.Bokeh.embed.embed_items_notebook(docs_json, render_items);\n  }\n  if (root.Bokeh !== undefined) {\n    embed_document(root);\n  } else {\n    let attempts = 0;\n    const timer = setInterval(function(root) {\n      if (root.Bokeh !== undefined) {\n        clearInterval(timer);\n        embed_document(root);\n      } else {\n        attempts++;\n        if (attempts > 100) {\n          clearInterval(timer);\n          console.log(\"Bokeh: ERROR: Unable to run BokehJS code because BokehJS library is missing\");\n        }\n      }\n    }, 10, root)\n  }\n})(window);",
      "application/vnd.bokehjs_exec.v0+json": ""
     },
     "metadata": {
      "application/vnd.bokehjs_exec.v0+json": {
       "id": "p18829"
      }
     },
     "output_type": "display_data"
    },
    {
     "data": {
      "text/plain": [
       "Index(['ID', 'time', 'recordtype', 'glucose', 'interpolated_pad',\n",
       "       'interpolated_linear', 'interpolated_nearest'],\n",
       "      dtype='object')"
      ]
     },
     "execution_count": 95,
     "metadata": {},
     "output_type": "execute_result"
    }
   ],
   "source": [
    "#function to draw plot\n",
    "def drawPlot(plotTitle, xBar, yBar, lineColor, scatColor):\n",
    "    pl = figure(title = plotTitle)\n",
    "    pl.line(x = xBar , y= yBar , color = lineColor)\n",
    "    pl.scatter(x = xBar, y = yBar, color= scatColor)\n",
    "    pl.xaxis.axis_label = 'time'\n",
    "    pl.yaxis.axis_label = 'glucose' #althpugh this function will used for different columns but fix this name for y-Bar because all the column refers to glucose\n",
    "    pl.grid.grid_line_color = 'black'\n",
    "    return pl\n",
    "\n",
    "#show 'glucose' and 'interpolated_pad' stauts based on time in plot\n",
    "show(drawPlot(\"origin_glucose\", df.time, df.glucose, 'blue', 'orange'))\n",
    "show(drawPlot(\"interpolated_glucose\", df.time, df.interpolated_pad, 'blue', 'green')) #this diagram problably will not usefull due to type of interpolation\n",
    "\n",
    "#deleted rows by null values to see how the diagram will be integrated\n",
    "dfHasData = df[df.ID > 0] #test data and see ID which is less than 0 has 82 records and most of them has Nan value so this ID filter\n",
    "show(drawPlot(\"dropped_nan_glucose\", dfHasData.time, dfHasData.glucose, 'blue', 'green'))\n",
    "show(drawPlot(\"interpolated_glucose\", dfHasData.time, dfHasData.interpolated_pad, 'blue', 'green'))\n",
    "\n",
    "df.columns\n",
    "\n"
   ]
  },
  {
   "cell_type": "markdown",
   "metadata": {},
   "source": [
    "<a name='6'></a>\n",
    "## Part 6: Challenge\n",
    "\n",
    "It might even be interesting to introduce a widget in which you can select different methods to interpolate.\n",
    "1. Can you improve the interpolation by choosing an other method?\n",
    "2. Can you add an rolling mean line? \n",
    "2. Can you improve the plot by making it interactive?\n",
    "\n",
    "<a name='ex-61'></a>\n",
    "### Code your solution"
   ]
  },
  {
   "cell_type": "code",
   "execution_count": 92,
   "metadata": {},
   "outputs": [
    {
     "data": {
      "text/html": [
       "\n",
       "  <div id=\"c89ff9c2-b1ec-41de-9e5f-38a4aa420485\" data-root-id=\"p10297\" style=\"display: contents;\"></div>\n"
      ]
     },
     "metadata": {},
     "output_type": "display_data"
    },
    {
     "data": {
      "application/javascript": "(function(root) {\n  function embed_document(root) {\n  const docs_json = {\"ea59cc81-c238-4c8c-ac50-6380d8f871e1\":{\"version\":\"3.0.2\",\"title\":\"Bokeh Application\",\"defs\":[],\"roots\":[{\"type\":\"object\",\"name\":\"Figure\",\"id\":\"p10297\",\"attributes\":{\"x_range\":{\"type\":\"object\",\"name\":\"DataRange1d\",\"id\":\"p10298\"},\"y_range\":{\"type\":\"object\",\"name\":\"DataRange1d\",\"id\":\"p10299\"},\"x_scale\":{\"type\":\"object\",\"name\":\"LinearScale\",\"id\":\"p10311\"},\"y_scale\":{\"type\":\"object\",\"name\":\"LinearScale\",\"id\":\"p10313\"},\"title\":{\"type\":\"object\",\"name\":\"Title\",\"id\":\"p10300\",\"attributes\":{\"text\":\"interpolated_linear\"}},\"renderers\":[{\"type\":\"object\",\"name\":\"GlyphRenderer\",\"id\":\"p10350\",\"attributes\":{\"data_source\":{\"type\":\"object\",\"name\":\"ColumnDataSource\",\"id\":\"p10344\",\"attributes\":{\"selected\":{\"type\":\"object\",\"name\":\"Selection\",\"id\":\"p10346\",\"attributes\":{\"indices\":[],\"line_indices\":[]}},\"selection_policy\":{\"type\":\"object\",\"name\":\"UnionRenderers\",\"id\":\"p10345\"},\"data\":{\"type\":\"map\",\"entries\":[[\"x\",{\"type\":\"ndarray\",\"array\":{\"type\":\"bytes\",\"data\":\"AABwIB2ldkIAAKyHH6V2QgAA5NA0pXZCAACkpTaldkIAANI4OaV2QgAA3n1CpXZCAAAcGkqldkIAAPa0TaV2QgAAHk9PpXZCAACa4U+ldkIAADIcUKV2QgAA2CpQpXZCAAD6y1CldkIAAIQyUaV2QgAAHG1RpXZCAADWSFKldkIAAHxXUqV2QgAAYK9SpXZCAABS21KldkIAAOoVU6V2QgAAglBTpXZCAADUZlSldkIAAJwWVaV2QgAAcppVpXZCAAAeolaldkIAAE4XV6V2QgAAyqlXpXZCAAC81VeldkIAAPoeWKV2QgAARjxYpXZCAACSWVildkIAAISFWKV2QgAAHMBYpXZCAAAO7FildkIAALT6WKV2QgAAmFJZpXZCAADkb1mldkIAAG7WWaV2QgAABhFapXZCAACeS1qldkIAADaGWqV2QgAAKLJapXZCAABm+1qldkIAAP41W6V2QgAA7n9dpXZCAABOal6ldkIAADLCXqV2QgAARo9fpXZCAAAQdGWldkIAAIQrZ6V2QgAAfFBopXZCAAAuUWqldkIAAEIea6V2QgAAMmhtpXZCAABUeB2ldkIAAA5UHqV2QgAAyC8fpXZCAACCCyCldkIAADznIKV2QgAA9sIhpXZCAACwniKldkIAAGp6I6V2QgAAJFYkpXZCAADeMSWldkIAAJgNJqV2QgAAUukmpXZCAAAMxSeldkIAAMagKKV2QgAAgHwppXZCAAA6WCqldkIAAPQzK6V2QgAArg8spXZCAABo6yyldkIAACLHLaV2QgAA3KIupXZCAACWfi+ldkIAAFBaMKV2QgAACjYxpXZCAADEETKldkIAAH7tMqV2QgAAOMkzpXZCAACYszSldkIAAFKPNaV2QgAADGs2pXZCAADGRjeldkIAAIAiOKV2QgAA4Aw5pXZCAACa6DmldkIAAFTEOqV2QgAADqA7pXZCAADIezyldkIAAIJXPaV2QgAAPDM+pXZCAAD2Dj+ldkIAALDqP6V2QgAAasZApXZCAAAkokGldkIAAN59QqV2QgAAmFlDpXZCAABSNUSldkIAAAwRRaV2QgAAxuxFpXZCAACAyEaldkIAADqkR6V2QgAA9H9IpXZCAACuW0mldkIAAGg3SqV2QgAAUKZNpXZCAAAKgk6ldkIAAGaoU6V2QgAAxpJUpXZCAADaX1WldkIAAGjdWKV2QgAAIrlZpXZCAAA2hlqldkIAAJZwW6V2QgAAxANepXZCAAB+316ldkIAADi7X6V2QgAA8pZgpXZCAACscmGldkIAAGZOYqV2QgAAICpjpXZCAADaBWSldkIAADrwZKV2QgAA9MtlpXZCAACup2aldkIAAGiDZ6V2QgAAIl9opXZCAADcOmmldkIAAJYWaqV2QgAAquNqpXZCAABkv2uldkIAAMSpbKV2QgAAfoVtpXZCAAA4YW6ldkI=\"},\"shape\":[136],\"dtype\":\"float64\",\"order\":\"little\"}],[\"y\",{\"type\":\"ndarray\",\"array\":{\"type\":\"bytes\",\"data\":\"AAAAAABAW0AAAAAAAABdQAAAAAAAwF5AAAAAAADAY0AAAAAAAJBiQAAAAAAAYGFAAAAAAADgYkAAAAAAACBgQAAAAAAAIGRAAAAAAAAAZ0AAAAAAAEBmQAAAAAAAQGZAAAAAAABAXkAAAAAAAMBbQAAAAAAAgFpAAAAAAADAVkAAAAAAAEBYQAAAAAAAgFpAAAAAAACAWkAAAAAAAEBYQAAAAAAAgFVAAAAAAACAXEAAAAAAACBgQAAAAAAAgF1AAAAAAACAXUAAAAAAAMBcQAAAAAAAQFpAAAAAAABAW0AAAAAAAMBaQAAAAAAAwFtAAAAAAAAAXkAAAAAAACBhQAAAAAAAwGBAAAAAAAAgYEAAAAAAAEBfQAAAAAAAgF5AAAAAAAAAX0AAAAAAAMBfQAAAAAAAQF5AAAAAAADAXkAAAAAAAIBeQAAAAAAAAF9AAAAAAACAX0AAAAAAAABgQAAAAAAAgFtAAAAAAAAAYEAAAAAAAABdQAAAAAAAgFpAAAAAAADgYkAAAAAAAIBfQAAAAAAAQGBAAAAAAACAXEAAAAAAAIBaQAAAAAAAwFtAAAAAAADAW0AAAAAAAMBbQAAAAAAAwFtAAAAAAADAW0AAAAAAAMBbQAAAAAAAwFtAAAAAAADAW0AAAAAAAMBbQAAAAAAAwFtAAAAAAADAW0AAAAAAAMBbQAAAAAAAwFtAAAAAAADAW0AAAAAAAMBbQAAAAAAAwFtAAAAAAADAW0AAAAAAAMBbQAAAAAAAwFtAAAAAAADAW0AAAAAAAMBbQAAAAAAAwFtAAAAAAADAW0AAAAAAAMBbQAAAAAAAwFtAAAAAAADAW0AAAAAAAMBbQAAAAAAAwFtAAAAAAADAW0AAAAAAAMBbQAAAAAAAwFtAAAAAAADAW0AAAAAAAMBbQAAAAAAAwFtAAAAAAADAW0AAAAAAAMBbQAAAAAAAwFtAAAAAAADAW0AAAAAAAMBbQAAAAAAAwFtAAAAAAADAW0AAAAAAAMBbQAAAAAAAwFtAAAAAAADAW0AAAAAAAMBbQAAAAAAAwFtAAAAAAADAW0AAAAAAAMBbQAAAAAAAwFtAAAAAAADAW0AAAAAAAMBbQAAAAAAAwFtAAAAAAADAW0AAAAAAAMBbQAAAAAAAwFtAAAAAAADAW0AAAAAAAMBbQAAAAAAAwFtAAAAAAADAW0AAAAAAAMBbQAAAAAAAwFtAAAAAAADAW0AAAAAAAMBbQAAAAAAAwFtAAAAAAADAW0AAAAAAAMBbQAAAAAAAwFtAAAAAAADAW0AAAAAAAMBbQAAAAAAAwFtAAAAAAADAW0AAAAAAAMBbQAAAAAAAwFtAAAAAAADAW0AAAAAAAMBbQAAAAAAAwFtAAAAAAADAW0AAAAAAAMBbQAAAAAAAwFtAAAAAAADAW0AAAAAAAMBbQAAAAAAAwFtAAAAAAADAW0A=\"},\"shape\":[136],\"dtype\":\"float64\",\"order\":\"little\"}]]}}},\"view\":{\"type\":\"object\",\"name\":\"CDSView\",\"id\":\"p10351\",\"attributes\":{\"filter\":{\"type\":\"object\",\"name\":\"AllIndices\",\"id\":\"p10352\"}}},\"glyph\":{\"type\":\"object\",\"name\":\"Line\",\"id\":\"p10347\",\"attributes\":{\"x\":{\"type\":\"field\",\"field\":\"x\"},\"y\":{\"type\":\"field\",\"field\":\"y\"},\"line_color\":\"blue\"}},\"nonselection_glyph\":{\"type\":\"object\",\"name\":\"Line\",\"id\":\"p10348\",\"attributes\":{\"x\":{\"type\":\"field\",\"field\":\"x\"},\"y\":{\"type\":\"field\",\"field\":\"y\"},\"line_color\":\"blue\",\"line_alpha\":0.1}},\"muted_glyph\":{\"type\":\"object\",\"name\":\"Line\",\"id\":\"p10349\",\"attributes\":{\"x\":{\"type\":\"field\",\"field\":\"x\"},\"y\":{\"type\":\"field\",\"field\":\"y\"},\"line_color\":\"blue\",\"line_alpha\":0.2}}}},{\"type\":\"object\",\"name\":\"GlyphRenderer\",\"id\":\"p10359\",\"attributes\":{\"data_source\":{\"type\":\"object\",\"name\":\"ColumnDataSource\",\"id\":\"p10353\",\"attributes\":{\"selected\":{\"type\":\"object\",\"name\":\"Selection\",\"id\":\"p10355\",\"attributes\":{\"indices\":[],\"line_indices\":[]}},\"selection_policy\":{\"type\":\"object\",\"name\":\"UnionRenderers\",\"id\":\"p10354\"},\"data\":{\"type\":\"map\",\"entries\":[[\"x\",{\"type\":\"ndarray\",\"array\":{\"type\":\"bytes\",\"data\":\"AABwIB2ldkIAAKyHH6V2QgAA5NA0pXZCAACkpTaldkIAANI4OaV2QgAA3n1CpXZCAAAcGkqldkIAAPa0TaV2QgAAHk9PpXZCAACa4U+ldkIAADIcUKV2QgAA2CpQpXZCAAD6y1CldkIAAIQyUaV2QgAAHG1RpXZCAADWSFKldkIAAHxXUqV2QgAAYK9SpXZCAABS21KldkIAAOoVU6V2QgAAglBTpXZCAADUZlSldkIAAJwWVaV2QgAAcppVpXZCAAAeolaldkIAAE4XV6V2QgAAyqlXpXZCAAC81VeldkIAAPoeWKV2QgAARjxYpXZCAACSWVildkIAAISFWKV2QgAAHMBYpXZCAAAO7FildkIAALT6WKV2QgAAmFJZpXZCAADkb1mldkIAAG7WWaV2QgAABhFapXZCAACeS1qldkIAADaGWqV2QgAAKLJapXZCAABm+1qldkIAAP41W6V2QgAA7n9dpXZCAABOal6ldkIAADLCXqV2QgAARo9fpXZCAAAQdGWldkIAAIQrZ6V2QgAAfFBopXZCAAAuUWqldkIAAEIea6V2QgAAMmhtpXZCAABUeB2ldkIAAA5UHqV2QgAAyC8fpXZCAACCCyCldkIAADznIKV2QgAA9sIhpXZCAACwniKldkIAAGp6I6V2QgAAJFYkpXZCAADeMSWldkIAAJgNJqV2QgAAUukmpXZCAAAMxSeldkIAAMagKKV2QgAAgHwppXZCAAA6WCqldkIAAPQzK6V2QgAArg8spXZCAABo6yyldkIAACLHLaV2QgAA3KIupXZCAACWfi+ldkIAAFBaMKV2QgAACjYxpXZCAADEETKldkIAAH7tMqV2QgAAOMkzpXZCAACYszSldkIAAFKPNaV2QgAADGs2pXZCAADGRjeldkIAAIAiOKV2QgAA4Aw5pXZCAACa6DmldkIAAFTEOqV2QgAADqA7pXZCAADIezyldkIAAIJXPaV2QgAAPDM+pXZCAAD2Dj+ldkIAALDqP6V2QgAAasZApXZCAAAkokGldkIAAN59QqV2QgAAmFlDpXZCAABSNUSldkIAAAwRRaV2QgAAxuxFpXZCAACAyEaldkIAADqkR6V2QgAA9H9IpXZCAACuW0mldkIAAGg3SqV2QgAAUKZNpXZCAAAKgk6ldkIAAGaoU6V2QgAAxpJUpXZCAADaX1WldkIAAGjdWKV2QgAAIrlZpXZCAAA2hlqldkIAAJZwW6V2QgAAxANepXZCAAB+316ldkIAADi7X6V2QgAA8pZgpXZCAACscmGldkIAAGZOYqV2QgAAICpjpXZCAADaBWSldkIAADrwZKV2QgAA9MtlpXZCAACup2aldkIAAGiDZ6V2QgAAIl9opXZCAADcOmmldkIAAJYWaqV2QgAAquNqpXZCAABkv2uldkIAAMSpbKV2QgAAfoVtpXZCAAA4YW6ldkI=\"},\"shape\":[136],\"dtype\":\"float64\",\"order\":\"little\"}],[\"y\",{\"type\":\"ndarray\",\"array\":{\"type\":\"bytes\",\"data\":\"AAAAAABAW0AAAAAAAABdQAAAAAAAwF5AAAAAAADAY0AAAAAAAJBiQAAAAAAAYGFAAAAAAADgYkAAAAAAACBgQAAAAAAAIGRAAAAAAAAAZ0AAAAAAAEBmQAAAAAAAQGZAAAAAAABAXkAAAAAAAMBbQAAAAAAAgFpAAAAAAADAVkAAAAAAAEBYQAAAAAAAgFpAAAAAAACAWkAAAAAAAEBYQAAAAAAAgFVAAAAAAACAXEAAAAAAACBgQAAAAAAAgF1AAAAAAACAXUAAAAAAAMBcQAAAAAAAQFpAAAAAAABAW0AAAAAAAMBaQAAAAAAAwFtAAAAAAAAAXkAAAAAAACBhQAAAAAAAwGBAAAAAAAAgYEAAAAAAAEBfQAAAAAAAgF5AAAAAAAAAX0AAAAAAAMBfQAAAAAAAQF5AAAAAAADAXkAAAAAAAIBeQAAAAAAAAF9AAAAAAACAX0AAAAAAAABgQAAAAAAAgFtAAAAAAAAAYEAAAAAAAABdQAAAAAAAgFpAAAAAAADgYkAAAAAAAIBfQAAAAAAAQGBAAAAAAACAXEAAAAAAAIBaQAAAAAAAwFtAAAAAAADAW0AAAAAAAMBbQAAAAAAAwFtAAAAAAADAW0AAAAAAAMBbQAAAAAAAwFtAAAAAAADAW0AAAAAAAMBbQAAAAAAAwFtAAAAAAADAW0AAAAAAAMBbQAAAAAAAwFtAAAAAAADAW0AAAAAAAMBbQAAAAAAAwFtAAAAAAADAW0AAAAAAAMBbQAAAAAAAwFtAAAAAAADAW0AAAAAAAMBbQAAAAAAAwFtAAAAAAADAW0AAAAAAAMBbQAAAAAAAwFtAAAAAAADAW0AAAAAAAMBbQAAAAAAAwFtAAAAAAADAW0AAAAAAAMBbQAAAAAAAwFtAAAAAAADAW0AAAAAAAMBbQAAAAAAAwFtAAAAAAADAW0AAAAAAAMBbQAAAAAAAwFtAAAAAAADAW0AAAAAAAMBbQAAAAAAAwFtAAAAAAADAW0AAAAAAAMBbQAAAAAAAwFtAAAAAAADAW0AAAAAAAMBbQAAAAAAAwFtAAAAAAADAW0AAAAAAAMBbQAAAAAAAwFtAAAAAAADAW0AAAAAAAMBbQAAAAAAAwFtAAAAAAADAW0AAAAAAAMBbQAAAAAAAwFtAAAAAAADAW0AAAAAAAMBbQAAAAAAAwFtAAAAAAADAW0AAAAAAAMBbQAAAAAAAwFtAAAAAAADAW0AAAAAAAMBbQAAAAAAAwFtAAAAAAADAW0AAAAAAAMBbQAAAAAAAwFtAAAAAAADAW0AAAAAAAMBbQAAAAAAAwFtAAAAAAADAW0AAAAAAAMBbQAAAAAAAwFtAAAAAAADAW0AAAAAAAMBbQAAAAAAAwFtAAAAAAADAW0AAAAAAAMBbQAAAAAAAwFtAAAAAAADAW0AAAAAAAMBbQAAAAAAAwFtAAAAAAADAW0A=\"},\"shape\":[136],\"dtype\":\"float64\",\"order\":\"little\"}]]}}},\"view\":{\"type\":\"object\",\"name\":\"CDSView\",\"id\":\"p10360\",\"attributes\":{\"filter\":{\"type\":\"object\",\"name\":\"AllIndices\",\"id\":\"p10361\"}}},\"glyph\":{\"type\":\"object\",\"name\":\"Scatter\",\"id\":\"p10356\",\"attributes\":{\"x\":{\"type\":\"field\",\"field\":\"x\"},\"y\":{\"type\":\"field\",\"field\":\"y\"},\"line_color\":{\"type\":\"value\",\"value\":\"green\"},\"fill_color\":{\"type\":\"value\",\"value\":\"green\"},\"hatch_color\":{\"type\":\"value\",\"value\":\"green\"}}},\"nonselection_glyph\":{\"type\":\"object\",\"name\":\"Scatter\",\"id\":\"p10357\",\"attributes\":{\"x\":{\"type\":\"field\",\"field\":\"x\"},\"y\":{\"type\":\"field\",\"field\":\"y\"},\"line_color\":{\"type\":\"value\",\"value\":\"green\"},\"line_alpha\":{\"type\":\"value\",\"value\":0.1},\"fill_color\":{\"type\":\"value\",\"value\":\"green\"},\"fill_alpha\":{\"type\":\"value\",\"value\":0.1},\"hatch_color\":{\"type\":\"value\",\"value\":\"green\"},\"hatch_alpha\":{\"type\":\"value\",\"value\":0.1}}},\"muted_glyph\":{\"type\":\"object\",\"name\":\"Scatter\",\"id\":\"p10358\",\"attributes\":{\"x\":{\"type\":\"field\",\"field\":\"x\"},\"y\":{\"type\":\"field\",\"field\":\"y\"},\"line_color\":{\"type\":\"value\",\"value\":\"green\"},\"line_alpha\":{\"type\":\"value\",\"value\":0.2},\"fill_color\":{\"type\":\"value\",\"value\":\"green\"},\"fill_alpha\":{\"type\":\"value\",\"value\":0.2},\"hatch_color\":{\"type\":\"value\",\"value\":\"green\"},\"hatch_alpha\":{\"type\":\"value\",\"value\":0.2}}}}}],\"toolbar\":{\"type\":\"object\",\"name\":\"Toolbar\",\"id\":\"p10306\",\"attributes\":{\"tools\":[{\"type\":\"object\",\"name\":\"PanTool\",\"id\":\"p10329\"},{\"type\":\"object\",\"name\":\"WheelZoomTool\",\"id\":\"p10330\"},{\"type\":\"object\",\"name\":\"BoxZoomTool\",\"id\":\"p10331\",\"attributes\":{\"overlay\":{\"type\":\"object\",\"name\":\"BoxAnnotation\",\"id\":\"p10332\",\"attributes\":{\"syncable\":false,\"level\":\"overlay\",\"visible\":false,\"left_units\":\"canvas\",\"right_units\":\"canvas\",\"bottom_units\":\"canvas\",\"top_units\":\"canvas\",\"line_color\":\"black\",\"line_alpha\":1.0,\"line_width\":2,\"line_dash\":[4,4],\"fill_color\":\"lightgrey\",\"fill_alpha\":0.5}}}},{\"type\":\"object\",\"name\":\"SaveTool\",\"id\":\"p10333\"},{\"type\":\"object\",\"name\":\"ResetTool\",\"id\":\"p10334\"},{\"type\":\"object\",\"name\":\"HelpTool\",\"id\":\"p10335\"}]}},\"left\":[{\"type\":\"object\",\"name\":\"LinearAxis\",\"id\":\"p10322\",\"attributes\":{\"ticker\":{\"type\":\"object\",\"name\":\"BasicTicker\",\"id\":\"p10325\",\"attributes\":{\"mantissas\":[1,2,5]}},\"formatter\":{\"type\":\"object\",\"name\":\"BasicTickFormatter\",\"id\":\"p10324\"},\"axis_label\":\"glucose\",\"major_label_policy\":{\"type\":\"object\",\"name\":\"AllLabels\",\"id\":\"p10323\"}}}],\"below\":[{\"type\":\"object\",\"name\":\"LinearAxis\",\"id\":\"p10315\",\"attributes\":{\"ticker\":{\"type\":\"object\",\"name\":\"BasicTicker\",\"id\":\"p10318\",\"attributes\":{\"mantissas\":[1,2,5]}},\"formatter\":{\"type\":\"object\",\"name\":\"BasicTickFormatter\",\"id\":\"p10317\"},\"axis_label\":\"time\",\"major_label_policy\":{\"type\":\"object\",\"name\":\"AllLabels\",\"id\":\"p10316\"}}}],\"center\":[{\"type\":\"object\",\"name\":\"Grid\",\"id\":\"p10321\",\"attributes\":{\"axis\":{\"id\":\"p10315\"},\"grid_line_color\":\"black\"}},{\"type\":\"object\",\"name\":\"Grid\",\"id\":\"p10328\",\"attributes\":{\"dimension\":1,\"axis\":{\"id\":\"p10322\"},\"grid_line_color\":\"black\"}}]}}]}};\n  const render_items = [{\"docid\":\"ea59cc81-c238-4c8c-ac50-6380d8f871e1\",\"roots\":{\"p10297\":\"c89ff9c2-b1ec-41de-9e5f-38a4aa420485\"},\"root_ids\":[\"p10297\"]}];\n  root.Bokeh.embed.embed_items_notebook(docs_json, render_items);\n  }\n  if (root.Bokeh !== undefined) {\n    embed_document(root);\n  } else {\n    let attempts = 0;\n    const timer = setInterval(function(root) {\n      if (root.Bokeh !== undefined) {\n        clearInterval(timer);\n        embed_document(root);\n      } else {\n        attempts++;\n        if (attempts > 100) {\n          clearInterval(timer);\n          console.log(\"Bokeh: ERROR: Unable to run BokehJS code because BokehJS library is missing\");\n        }\n      }\n    }, 10, root)\n  }\n})(window);",
      "application/vnd.bokehjs_exec.v0+json": ""
     },
     "metadata": {
      "application/vnd.bokehjs_exec.v0+json": {
       "id": "p10297"
      }
     },
     "output_type": "display_data"
    },
    {
     "ename": "ImportError",
     "evalue": "Missing optional dependency 'scipy'. nearest interpolation requires SciPy. Use pip or conda to install scipy.",
     "output_type": "error",
     "traceback": [
      "\u001b[1;31m---------------------------------------------------------------------------\u001b[0m",
      "\u001b[1;31mModuleNotFoundError\u001b[0m                       Traceback (most recent call last)",
      "File \u001b[1;32m~\\AppData\\Local\\Packages\\PythonSoftwareFoundation.Python.3.10_qbz5n2kfra8p0\\LocalCache\\local-packages\\Python310\\site-packages\\pandas\\compat\\_optional.py:141\u001b[0m, in \u001b[0;36mimport_optional_dependency\u001b[1;34m(name, extra, errors, min_version)\u001b[0m\n\u001b[0;32m    140\u001b[0m \u001b[39mtry\u001b[39;00m:\n\u001b[1;32m--> 141\u001b[0m     module \u001b[39m=\u001b[39m importlib\u001b[39m.\u001b[39;49mimport_module(name)\n\u001b[0;32m    142\u001b[0m \u001b[39mexcept\u001b[39;00m \u001b[39mImportError\u001b[39;00m:\n",
      "File \u001b[1;32mC:\\Program Files\\WindowsApps\\PythonSoftwareFoundation.Python.3.10_3.10.2288.0_x64__qbz5n2kfra8p0\\lib\\importlib\\__init__.py:126\u001b[0m, in \u001b[0;36mimport_module\u001b[1;34m(name, package)\u001b[0m\n\u001b[0;32m    125\u001b[0m         level \u001b[39m+\u001b[39m\u001b[39m=\u001b[39m \u001b[39m1\u001b[39m\n\u001b[1;32m--> 126\u001b[0m \u001b[39mreturn\u001b[39;00m _bootstrap\u001b[39m.\u001b[39;49m_gcd_import(name[level:], package, level)\n",
      "File \u001b[1;32m<frozen importlib._bootstrap>:1050\u001b[0m, in \u001b[0;36m_gcd_import\u001b[1;34m(name, package, level)\u001b[0m\n",
      "File \u001b[1;32m<frozen importlib._bootstrap>:1027\u001b[0m, in \u001b[0;36m_find_and_load\u001b[1;34m(name, import_)\u001b[0m\n",
      "File \u001b[1;32m<frozen importlib._bootstrap>:1004\u001b[0m, in \u001b[0;36m_find_and_load_unlocked\u001b[1;34m(name, import_)\u001b[0m\n",
      "\u001b[1;31mModuleNotFoundError\u001b[0m: No module named 'scipy'",
      "\nDuring handling of the above exception, another exception occurred:\n",
      "\u001b[1;31mImportError\u001b[0m                               Traceback (most recent call last)",
      "Cell \u001b[1;32mIn[92], line 8\u001b[0m\n\u001b[0;32m      6\u001b[0m \u001b[39m#nearest\u001b[39;00m\n\u001b[0;32m      7\u001b[0m df[\u001b[39m'\u001b[39m\u001b[39minterpolated_nearest\u001b[39m\u001b[39m'\u001b[39m] \u001b[39m=\u001b[39m df\u001b[39m.\u001b[39mglucose\n\u001b[1;32m----> 8\u001b[0m df\u001b[39m.\u001b[39minterpolated_nearest \u001b[39m=\u001b[39m df\u001b[39m.\u001b[39;49minterpolated_nearest\u001b[39m.\u001b[39;49minterpolate(method\u001b[39m=\u001b[39;49m\u001b[39m'\u001b[39;49m\u001b[39mnearest\u001b[39;49m\u001b[39m'\u001b[39;49m) \n\u001b[0;32m      9\u001b[0m show(drawPlot(\u001b[39m\"\u001b[39m\u001b[39minterpolated_nearest\u001b[39m\u001b[39m\"\u001b[39m, df\u001b[39m.\u001b[39mtime, df\u001b[39m.\u001b[39minterpolated_nearest, \u001b[39m'\u001b[39m\u001b[39mblue\u001b[39m\u001b[39m'\u001b[39m, \u001b[39m'\u001b[39m\u001b[39mgreen\u001b[39m\u001b[39m'\u001b[39m))\n\u001b[0;32m     10\u001b[0m \u001b[39m#krogh\u001b[39;00m\n",
      "File \u001b[1;32m~\\AppData\\Local\\Packages\\PythonSoftwareFoundation.Python.3.10_qbz5n2kfra8p0\\LocalCache\\local-packages\\Python310\\site-packages\\pandas\\util\\_decorators.py:331\u001b[0m, in \u001b[0;36mdeprecate_nonkeyword_arguments.<locals>.decorate.<locals>.wrapper\u001b[1;34m(*args, **kwargs)\u001b[0m\n\u001b[0;32m    325\u001b[0m \u001b[39mif\u001b[39;00m \u001b[39mlen\u001b[39m(args) \u001b[39m>\u001b[39m num_allow_args:\n\u001b[0;32m    326\u001b[0m     warnings\u001b[39m.\u001b[39mwarn(\n\u001b[0;32m    327\u001b[0m         msg\u001b[39m.\u001b[39mformat(arguments\u001b[39m=\u001b[39m_format_argument_list(allow_args)),\n\u001b[0;32m    328\u001b[0m         \u001b[39mFutureWarning\u001b[39;00m,\n\u001b[0;32m    329\u001b[0m         stacklevel\u001b[39m=\u001b[39mfind_stack_level(),\n\u001b[0;32m    330\u001b[0m     )\n\u001b[1;32m--> 331\u001b[0m \u001b[39mreturn\u001b[39;00m func(\u001b[39m*\u001b[39margs, \u001b[39m*\u001b[39m\u001b[39m*\u001b[39mkwargs)\n",
      "File \u001b[1;32m~\\AppData\\Local\\Packages\\PythonSoftwareFoundation.Python.3.10_qbz5n2kfra8p0\\LocalCache\\local-packages\\Python310\\site-packages\\pandas\\core\\series.py:6063\u001b[0m, in \u001b[0;36mSeries.interpolate\u001b[1;34m(self, method, axis, limit, inplace, limit_direction, limit_area, downcast, **kwargs)\u001b[0m\n\u001b[0;32m   6051\u001b[0m \u001b[39m@deprecate_nonkeyword_arguments\u001b[39m(version\u001b[39m=\u001b[39m\u001b[39mNone\u001b[39;00m, allowed_args\u001b[39m=\u001b[39m[\u001b[39m\"\u001b[39m\u001b[39mself\u001b[39m\u001b[39m\"\u001b[39m, \u001b[39m\"\u001b[39m\u001b[39mmethod\u001b[39m\u001b[39m\"\u001b[39m])\n\u001b[0;32m   6052\u001b[0m \u001b[39mdef\u001b[39;00m \u001b[39minterpolate\u001b[39m(\n\u001b[0;32m   6053\u001b[0m     \u001b[39mself\u001b[39m: Series,\n\u001b[1;32m   (...)\u001b[0m\n\u001b[0;32m   6061\u001b[0m     \u001b[39m*\u001b[39m\u001b[39m*\u001b[39mkwargs,\n\u001b[0;32m   6062\u001b[0m ) \u001b[39m-\u001b[39m\u001b[39m>\u001b[39m Series \u001b[39m|\u001b[39m \u001b[39mNone\u001b[39;00m:\n\u001b[1;32m-> 6063\u001b[0m     \u001b[39mreturn\u001b[39;00m \u001b[39msuper\u001b[39m()\u001b[39m.\u001b[39minterpolate(\n\u001b[0;32m   6064\u001b[0m         method,\n\u001b[0;32m   6065\u001b[0m         axis,\n\u001b[0;32m   6066\u001b[0m         limit,\n\u001b[0;32m   6067\u001b[0m         inplace,\n\u001b[0;32m   6068\u001b[0m         limit_direction,\n\u001b[0;32m   6069\u001b[0m         limit_area,\n\u001b[0;32m   6070\u001b[0m         downcast,\n\u001b[0;32m   6071\u001b[0m         \u001b[39m*\u001b[39m\u001b[39m*\u001b[39mkwargs,\n\u001b[0;32m   6072\u001b[0m     )\n",
      "File \u001b[1;32m~\\AppData\\Local\\Packages\\PythonSoftwareFoundation.Python.3.10_qbz5n2kfra8p0\\LocalCache\\local-packages\\Python310\\site-packages\\pandas\\core\\generic.py:7568\u001b[0m, in \u001b[0;36mNDFrame.interpolate\u001b[1;34m(self, method, axis, limit, inplace, limit_direction, limit_area, downcast, **kwargs)\u001b[0m\n\u001b[0;32m   7562\u001b[0m \u001b[39mif\u001b[39;00m isna(index)\u001b[39m.\u001b[39many():\n\u001b[0;32m   7563\u001b[0m     \u001b[39mraise\u001b[39;00m \u001b[39mNotImplementedError\u001b[39;00m(\n\u001b[0;32m   7564\u001b[0m         \u001b[39m\"\u001b[39m\u001b[39mInterpolation with NaNs in the index \u001b[39m\u001b[39m\"\u001b[39m\n\u001b[0;32m   7565\u001b[0m         \u001b[39m\"\u001b[39m\u001b[39mhas not been implemented. Try filling \u001b[39m\u001b[39m\"\u001b[39m\n\u001b[0;32m   7566\u001b[0m         \u001b[39m\"\u001b[39m\u001b[39mthose NaNs before interpolating.\u001b[39m\u001b[39m\"\u001b[39m\n\u001b[0;32m   7567\u001b[0m     )\n\u001b[1;32m-> 7568\u001b[0m new_data \u001b[39m=\u001b[39m obj\u001b[39m.\u001b[39m_mgr\u001b[39m.\u001b[39minterpolate(\n\u001b[0;32m   7569\u001b[0m     method\u001b[39m=\u001b[39mmethod,\n\u001b[0;32m   7570\u001b[0m     axis\u001b[39m=\u001b[39maxis,\n\u001b[0;32m   7571\u001b[0m     index\u001b[39m=\u001b[39mindex,\n\u001b[0;32m   7572\u001b[0m     limit\u001b[39m=\u001b[39mlimit,\n\u001b[0;32m   7573\u001b[0m     limit_direction\u001b[39m=\u001b[39mlimit_direction,\n\u001b[0;32m   7574\u001b[0m     limit_area\u001b[39m=\u001b[39mlimit_area,\n\u001b[0;32m   7575\u001b[0m     inplace\u001b[39m=\u001b[39minplace,\n\u001b[0;32m   7576\u001b[0m     downcast\u001b[39m=\u001b[39mdowncast,\n\u001b[0;32m   7577\u001b[0m     \u001b[39m*\u001b[39m\u001b[39m*\u001b[39mkwargs,\n\u001b[0;32m   7578\u001b[0m )\n\u001b[0;32m   7580\u001b[0m result \u001b[39m=\u001b[39m \u001b[39mself\u001b[39m\u001b[39m.\u001b[39m_constructor(new_data)\n\u001b[0;32m   7581\u001b[0m \u001b[39mif\u001b[39;00m should_transpose:\n",
      "File \u001b[1;32m~\\AppData\\Local\\Packages\\PythonSoftwareFoundation.Python.3.10_qbz5n2kfra8p0\\LocalCache\\local-packages\\Python310\\site-packages\\pandas\\core\\internals\\managers.py:424\u001b[0m, in \u001b[0;36mBaseBlockManager.interpolate\u001b[1;34m(self, **kwargs)\u001b[0m\n\u001b[0;32m    423\u001b[0m \u001b[39mdef\u001b[39;00m \u001b[39minterpolate\u001b[39m(\u001b[39mself\u001b[39m: T, \u001b[39m*\u001b[39m\u001b[39m*\u001b[39mkwargs) \u001b[39m-\u001b[39m\u001b[39m>\u001b[39m T:\n\u001b[1;32m--> 424\u001b[0m     \u001b[39mreturn\u001b[39;00m \u001b[39mself\u001b[39m\u001b[39m.\u001b[39mapply(\u001b[39m\"\u001b[39m\u001b[39minterpolate\u001b[39m\u001b[39m\"\u001b[39m, \u001b[39m*\u001b[39m\u001b[39m*\u001b[39mkwargs)\n",
      "File \u001b[1;32m~\\AppData\\Local\\Packages\\PythonSoftwareFoundation.Python.3.10_qbz5n2kfra8p0\\LocalCache\\local-packages\\Python310\\site-packages\\pandas\\core\\internals\\managers.py:352\u001b[0m, in \u001b[0;36mBaseBlockManager.apply\u001b[1;34m(self, f, align_keys, ignore_failures, **kwargs)\u001b[0m\n\u001b[0;32m    350\u001b[0m         applied \u001b[39m=\u001b[39m b\u001b[39m.\u001b[39mapply(f, \u001b[39m*\u001b[39m\u001b[39m*\u001b[39mkwargs)\n\u001b[0;32m    351\u001b[0m     \u001b[39melse\u001b[39;00m:\n\u001b[1;32m--> 352\u001b[0m         applied \u001b[39m=\u001b[39m \u001b[39mgetattr\u001b[39m(b, f)(\u001b[39m*\u001b[39m\u001b[39m*\u001b[39mkwargs)\n\u001b[0;32m    353\u001b[0m \u001b[39mexcept\u001b[39;00m (\u001b[39mTypeError\u001b[39;00m, \u001b[39mNotImplementedError\u001b[39;00m):\n\u001b[0;32m    354\u001b[0m     \u001b[39mif\u001b[39;00m \u001b[39mnot\u001b[39;00m ignore_failures:\n",
      "File \u001b[1;32m~\\AppData\\Local\\Packages\\PythonSoftwareFoundation.Python.3.10_qbz5n2kfra8p0\\LocalCache\\local-packages\\Python310\\site-packages\\pandas\\core\\internals\\blocks.py:1258\u001b[0m, in \u001b[0;36mBlock.interpolate\u001b[1;34m(self, method, axis, index, inplace, limit, limit_direction, limit_area, fill_value, downcast, **kwargs)\u001b[0m\n\u001b[0;32m   1255\u001b[0m data \u001b[39m=\u001b[39m \u001b[39mself\u001b[39m\u001b[39m.\u001b[39mvalues \u001b[39mif\u001b[39;00m inplace \u001b[39melse\u001b[39;00m \u001b[39mself\u001b[39m\u001b[39m.\u001b[39mvalues\u001b[39m.\u001b[39mcopy()\n\u001b[0;32m   1256\u001b[0m data \u001b[39m=\u001b[39m cast(np\u001b[39m.\u001b[39mndarray, data)  \u001b[39m# bc overridden by ExtensionBlock\u001b[39;00m\n\u001b[1;32m-> 1258\u001b[0m missing\u001b[39m.\u001b[39minterpolate_array_2d(\n\u001b[0;32m   1259\u001b[0m     data,\n\u001b[0;32m   1260\u001b[0m     method\u001b[39m=\u001b[39mmethod,\n\u001b[0;32m   1261\u001b[0m     axis\u001b[39m=\u001b[39maxis,\n\u001b[0;32m   1262\u001b[0m     index\u001b[39m=\u001b[39mindex,\n\u001b[0;32m   1263\u001b[0m     limit\u001b[39m=\u001b[39mlimit,\n\u001b[0;32m   1264\u001b[0m     limit_direction\u001b[39m=\u001b[39mlimit_direction,\n\u001b[0;32m   1265\u001b[0m     limit_area\u001b[39m=\u001b[39mlimit_area,\n\u001b[0;32m   1266\u001b[0m     fill_value\u001b[39m=\u001b[39mfill_value,\n\u001b[0;32m   1267\u001b[0m     \u001b[39m*\u001b[39m\u001b[39m*\u001b[39mkwargs,\n\u001b[0;32m   1268\u001b[0m )\n\u001b[0;32m   1270\u001b[0m nb \u001b[39m=\u001b[39m \u001b[39mself\u001b[39m\u001b[39m.\u001b[39mmake_block_same_class(data)\n\u001b[0;32m   1271\u001b[0m \u001b[39mreturn\u001b[39;00m nb\u001b[39m.\u001b[39m_maybe_downcast([nb], downcast)\n",
      "File \u001b[1;32m~\\AppData\\Local\\Packages\\PythonSoftwareFoundation.Python.3.10_qbz5n2kfra8p0\\LocalCache\\local-packages\\Python310\\site-packages\\pandas\\core\\missing.py:249\u001b[0m, in \u001b[0;36minterpolate_array_2d\u001b[1;34m(data, method, axis, index, limit, limit_direction, limit_area, fill_value, coerce, downcast, **kwargs)\u001b[0m\n\u001b[0;32m    246\u001b[0m \u001b[39melse\u001b[39;00m:\n\u001b[0;32m    247\u001b[0m     \u001b[39massert\u001b[39;00m index \u001b[39mis\u001b[39;00m \u001b[39mnot\u001b[39;00m \u001b[39mNone\u001b[39;00m  \u001b[39m# for mypy\u001b[39;00m\n\u001b[1;32m--> 249\u001b[0m     _interpolate_2d_with_fill(\n\u001b[0;32m    250\u001b[0m         data\u001b[39m=\u001b[39mdata,\n\u001b[0;32m    251\u001b[0m         index\u001b[39m=\u001b[39mindex,\n\u001b[0;32m    252\u001b[0m         axis\u001b[39m=\u001b[39maxis,\n\u001b[0;32m    253\u001b[0m         method\u001b[39m=\u001b[39mmethod,\n\u001b[0;32m    254\u001b[0m         limit\u001b[39m=\u001b[39mlimit,\n\u001b[0;32m    255\u001b[0m         limit_direction\u001b[39m=\u001b[39mlimit_direction,\n\u001b[0;32m    256\u001b[0m         limit_area\u001b[39m=\u001b[39mlimit_area,\n\u001b[0;32m    257\u001b[0m         fill_value\u001b[39m=\u001b[39mfill_value,\n\u001b[0;32m    258\u001b[0m         \u001b[39m*\u001b[39m\u001b[39m*\u001b[39mkwargs,\n\u001b[0;32m    259\u001b[0m     )\n\u001b[0;32m    260\u001b[0m \u001b[39mreturn\u001b[39;00m\n",
      "File \u001b[1;32m~\\AppData\\Local\\Packages\\PythonSoftwareFoundation.Python.3.10_qbz5n2kfra8p0\\LocalCache\\local-packages\\Python310\\site-packages\\pandas\\core\\missing.py:342\u001b[0m, in \u001b[0;36m_interpolate_2d_with_fill\u001b[1;34m(data, index, axis, method, limit, limit_direction, limit_area, fill_value, **kwargs)\u001b[0m\n\u001b[0;32m    324\u001b[0m     _interpolate_1d(\n\u001b[0;32m    325\u001b[0m         indices\u001b[39m=\u001b[39mindices,\n\u001b[0;32m    326\u001b[0m         yvalues\u001b[39m=\u001b[39myvalues,\n\u001b[1;32m   (...)\u001b[0m\n\u001b[0;32m    333\u001b[0m         \u001b[39m*\u001b[39m\u001b[39m*\u001b[39mkwargs,\n\u001b[0;32m    334\u001b[0m     )\n\u001b[0;32m    336\u001b[0m \u001b[39m# error: Argument 1 to \"apply_along_axis\" has incompatible type\u001b[39;00m\n\u001b[0;32m    337\u001b[0m \u001b[39m# \"Callable[[ndarray[Any, Any]], None]\"; expected \"Callable[...,\u001b[39;00m\n\u001b[0;32m    338\u001b[0m \u001b[39m# Union[_SupportsArray[dtype[<nothing>]], Sequence[_SupportsArray\u001b[39;00m\n\u001b[0;32m    339\u001b[0m \u001b[39m# [dtype[<nothing>]]], Sequence[Sequence[_SupportsArray[dtype[<nothing>]]]],\u001b[39;00m\n\u001b[0;32m    340\u001b[0m \u001b[39m# Sequence[Sequence[Sequence[_SupportsArray[dtype[<nothing>]]]]],\u001b[39;00m\n\u001b[0;32m    341\u001b[0m \u001b[39m# Sequence[Sequence[Sequence[Sequence[_SupportsArray[dtype[<nothing>]]]]]]]]\"\u001b[39;00m\n\u001b[1;32m--> 342\u001b[0m np\u001b[39m.\u001b[39;49mapply_along_axis(func, axis, data)  \u001b[39m# type: ignore[arg-type]\u001b[39;00m\n\u001b[0;32m    343\u001b[0m \u001b[39mreturn\u001b[39;00m\n",
      "File \u001b[1;32m<__array_function__ internals>:180\u001b[0m, in \u001b[0;36mapply_along_axis\u001b[1;34m(*args, **kwargs)\u001b[0m\n",
      "File \u001b[1;32m~\\AppData\\Local\\Packages\\PythonSoftwareFoundation.Python.3.10_qbz5n2kfra8p0\\LocalCache\\local-packages\\Python310\\site-packages\\numpy\\lib\\shape_base.py:379\u001b[0m, in \u001b[0;36mapply_along_axis\u001b[1;34m(func1d, axis, arr, *args, **kwargs)\u001b[0m\n\u001b[0;32m    375\u001b[0m \u001b[39mexcept\u001b[39;00m \u001b[39mStopIteration\u001b[39;00m \u001b[39mas\u001b[39;00m e:\n\u001b[0;32m    376\u001b[0m     \u001b[39mraise\u001b[39;00m \u001b[39mValueError\u001b[39;00m(\n\u001b[0;32m    377\u001b[0m         \u001b[39m'\u001b[39m\u001b[39mCannot apply_along_axis when any iteration dimensions are 0\u001b[39m\u001b[39m'\u001b[39m\n\u001b[0;32m    378\u001b[0m     ) \u001b[39mfrom\u001b[39;00m \u001b[39mNone\u001b[39m\n\u001b[1;32m--> 379\u001b[0m res \u001b[39m=\u001b[39m asanyarray(func1d(inarr_view[ind0], \u001b[39m*\u001b[39margs, \u001b[39m*\u001b[39m\u001b[39m*\u001b[39mkwargs))\n\u001b[0;32m    381\u001b[0m \u001b[39m# build a buffer for storing evaluations of func1d.\u001b[39;00m\n\u001b[0;32m    382\u001b[0m \u001b[39m# remove the requested axis, and add the new ones on the end.\u001b[39;00m\n\u001b[0;32m    383\u001b[0m \u001b[39m# laid out so that each write is contiguous.\u001b[39;00m\n\u001b[0;32m    384\u001b[0m \u001b[39m# for a tuple index inds, buff[inds] = func1d(inarr_view[inds])\u001b[39;00m\n\u001b[0;32m    385\u001b[0m buff \u001b[39m=\u001b[39m zeros(inarr_view\u001b[39m.\u001b[39mshape[:\u001b[39m-\u001b[39m\u001b[39m1\u001b[39m] \u001b[39m+\u001b[39m res\u001b[39m.\u001b[39mshape, res\u001b[39m.\u001b[39mdtype)\n",
      "File \u001b[1;32m~\\AppData\\Local\\Packages\\PythonSoftwareFoundation.Python.3.10_qbz5n2kfra8p0\\LocalCache\\local-packages\\Python310\\site-packages\\pandas\\core\\missing.py:324\u001b[0m, in \u001b[0;36m_interpolate_2d_with_fill.<locals>.func\u001b[1;34m(yvalues)\u001b[0m\n\u001b[0;32m    321\u001b[0m \u001b[39mdef\u001b[39;00m \u001b[39mfunc\u001b[39m(yvalues: np\u001b[39m.\u001b[39mndarray) \u001b[39m-\u001b[39m\u001b[39m>\u001b[39m \u001b[39mNone\u001b[39;00m:\n\u001b[0;32m    322\u001b[0m     \u001b[39m# process 1-d slices in the axis direction\u001b[39;00m\n\u001b[1;32m--> 324\u001b[0m     _interpolate_1d(\n\u001b[0;32m    325\u001b[0m         indices\u001b[39m=\u001b[39mindices,\n\u001b[0;32m    326\u001b[0m         yvalues\u001b[39m=\u001b[39myvalues,\n\u001b[0;32m    327\u001b[0m         method\u001b[39m=\u001b[39mmethod,\n\u001b[0;32m    328\u001b[0m         limit\u001b[39m=\u001b[39mlimit,\n\u001b[0;32m    329\u001b[0m         limit_direction\u001b[39m=\u001b[39mlimit_direction,\n\u001b[0;32m    330\u001b[0m         limit_area\u001b[39m=\u001b[39mlimit_area,\n\u001b[0;32m    331\u001b[0m         fill_value\u001b[39m=\u001b[39mfill_value,\n\u001b[0;32m    332\u001b[0m         bounds_error\u001b[39m=\u001b[39m\u001b[39mFalse\u001b[39;00m,\n\u001b[0;32m    333\u001b[0m         \u001b[39m*\u001b[39m\u001b[39m*\u001b[39mkwargs,\n\u001b[0;32m    334\u001b[0m     )\n",
      "File \u001b[1;32m~\\AppData\\Local\\Packages\\PythonSoftwareFoundation.Python.3.10_qbz5n2kfra8p0\\LocalCache\\local-packages\\Python310\\site-packages\\pandas\\core\\missing.py:453\u001b[0m, in \u001b[0;36m_interpolate_1d\u001b[1;34m(indices, yvalues, method, limit, limit_direction, limit_area, fill_value, bounds_error, order, **kwargs)\u001b[0m\n\u001b[0;32m    449\u001b[0m     yvalues[invalid] \u001b[39m=\u001b[39m np\u001b[39m.\u001b[39minterp(\n\u001b[0;32m    450\u001b[0m         indices[invalid], indices[valid][indexer], yvalues[valid][indexer]\n\u001b[0;32m    451\u001b[0m     )\n\u001b[0;32m    452\u001b[0m \u001b[39melse\u001b[39;00m:\n\u001b[1;32m--> 453\u001b[0m     yvalues[invalid] \u001b[39m=\u001b[39m _interpolate_scipy_wrapper(\n\u001b[0;32m    454\u001b[0m         indices[valid],\n\u001b[0;32m    455\u001b[0m         yvalues[valid],\n\u001b[0;32m    456\u001b[0m         indices[invalid],\n\u001b[0;32m    457\u001b[0m         method\u001b[39m=\u001b[39mmethod,\n\u001b[0;32m    458\u001b[0m         fill_value\u001b[39m=\u001b[39mfill_value,\n\u001b[0;32m    459\u001b[0m         bounds_error\u001b[39m=\u001b[39mbounds_error,\n\u001b[0;32m    460\u001b[0m         order\u001b[39m=\u001b[39morder,\n\u001b[0;32m    461\u001b[0m         \u001b[39m*\u001b[39m\u001b[39m*\u001b[39mkwargs,\n\u001b[0;32m    462\u001b[0m     )\n\u001b[0;32m    464\u001b[0m yvalues[preserve_nans] \u001b[39m=\u001b[39m np\u001b[39m.\u001b[39mnan\n\u001b[0;32m    465\u001b[0m \u001b[39mreturn\u001b[39;00m\n",
      "File \u001b[1;32m~\\AppData\\Local\\Packages\\PythonSoftwareFoundation.Python.3.10_qbz5n2kfra8p0\\LocalCache\\local-packages\\Python310\\site-packages\\pandas\\core\\missing.py:477\u001b[0m, in \u001b[0;36m_interpolate_scipy_wrapper\u001b[1;34m(x, y, new_x, method, fill_value, bounds_error, order, **kwargs)\u001b[0m\n\u001b[0;32m    471\u001b[0m \u001b[39m\"\"\"\u001b[39;00m\n\u001b[0;32m    472\u001b[0m \u001b[39mPassed off to scipy.interpolate.interp1d. method is scipy's kind.\u001b[39;00m\n\u001b[0;32m    473\u001b[0m \u001b[39mReturns an array interpolated at new_x.  Add any new methods to\u001b[39;00m\n\u001b[0;32m    474\u001b[0m \u001b[39mthe list in _clean_interp_method.\u001b[39;00m\n\u001b[0;32m    475\u001b[0m \u001b[39m\"\"\"\u001b[39;00m\n\u001b[0;32m    476\u001b[0m extra \u001b[39m=\u001b[39m \u001b[39mf\u001b[39m\u001b[39m\"\u001b[39m\u001b[39m{\u001b[39;00mmethod\u001b[39m}\u001b[39;00m\u001b[39m interpolation requires SciPy.\u001b[39m\u001b[39m\"\u001b[39m\n\u001b[1;32m--> 477\u001b[0m import_optional_dependency(\u001b[39m\"\u001b[39;49m\u001b[39mscipy\u001b[39;49m\u001b[39m\"\u001b[39;49m, extra\u001b[39m=\u001b[39;49mextra)\n\u001b[0;32m    478\u001b[0m \u001b[39mfrom\u001b[39;00m \u001b[39mscipy\u001b[39;00m \u001b[39mimport\u001b[39;00m interpolate\n\u001b[0;32m    480\u001b[0m new_x \u001b[39m=\u001b[39m np\u001b[39m.\u001b[39masarray(new_x)\n",
      "File \u001b[1;32m~\\AppData\\Local\\Packages\\PythonSoftwareFoundation.Python.3.10_qbz5n2kfra8p0\\LocalCache\\local-packages\\Python310\\site-packages\\pandas\\compat\\_optional.py:144\u001b[0m, in \u001b[0;36mimport_optional_dependency\u001b[1;34m(name, extra, errors, min_version)\u001b[0m\n\u001b[0;32m    142\u001b[0m \u001b[39mexcept\u001b[39;00m \u001b[39mImportError\u001b[39;00m:\n\u001b[0;32m    143\u001b[0m     \u001b[39mif\u001b[39;00m errors \u001b[39m==\u001b[39m \u001b[39m\"\u001b[39m\u001b[39mraise\u001b[39m\u001b[39m\"\u001b[39m:\n\u001b[1;32m--> 144\u001b[0m         \u001b[39mraise\u001b[39;00m \u001b[39mImportError\u001b[39;00m(msg)\n\u001b[0;32m    145\u001b[0m     \u001b[39melse\u001b[39;00m:\n\u001b[0;32m    146\u001b[0m         \u001b[39mreturn\u001b[39;00m \u001b[39mNone\u001b[39;00m\n",
      "\u001b[1;31mImportError\u001b[0m: Missing optional dependency 'scipy'. nearest interpolation requires SciPy. Use pip or conda to install scipy."
     ]
    }
   ],
   "source": [
    "#-----1. other type of interpolation\n",
    "#linear\n",
    "df['interpolated_linear'] = df.glucose\n",
    "df.interpolated_linear = df.interpolated_linear.interpolate(method='linear') \n",
    "show(drawPlot(\"interpolated_linear\", df.time, df.interpolated_linear, 'blue', 'green'))\n",
    "#nearest\n",
    "df['interpolated_nearest'] = df.glucose\n",
    "df.interpolated_nearest = df.interpolated_nearest.interpolate(method='nearest') \n",
    "show(drawPlot(\"interpolated_nearest\", df.time, df.interpolated_nearest, 'blue', 'green'))\n",
    "#krogh\n",
    "df['interpolated_krogh'] = df.glucose\n",
    "df.interpolated_krogh = df.interpolated_krogh.interpolate(method='krogh')\n",
    "show(drawPlot(\"interpolated_krogh\", df.time, df.interpolated_krogh, 'blue', 'green'))\n",
    "#from_derivatives\n",
    "df['interpolated_deriv'] = df.glucose\n",
    "df.interpolated_deriv = df.interpolated_deriv.interpolate(method='from_derivatives') \n",
    "show(drawPlot(\"interpolated_deriv\", df.time, df.interpolated_deriv, 'blue', 'green'))"
   ]
  }
 ],
 "metadata": {
  "kernelspec": {
   "display_name": "Python 3.10.8 64-bit (microsoft store)",
   "language": "python",
   "name": "python3"
  },
  "language_info": {
   "codemirror_mode": {
    "name": "ipython",
    "version": 3
   },
   "file_extension": ".py",
   "mimetype": "text/x-python",
   "name": "python",
   "nbconvert_exporter": "python",
   "pygments_lexer": "ipython3",
   "version": "3.10.8"
  },
  "vscode": {
   "interpreter": {
    "hash": "854ad7b50770bedaf0cab730b1aaabb765566ea98036f134b639e260bede141e"
   }
  }
 },
 "nbformat": 4,
 "nbformat_minor": 4
}
